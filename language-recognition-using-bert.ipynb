{
 "cells": [
  {
   "cell_type": "code",
   "execution_count": 2,
   "id": "093f4869-8a0f-46aa-b75f-6a409bf22614",
   "metadata": {},
   "outputs": [
    {
     "name": "stdout",
     "output_type": "stream",
     "text": [
      "Requirement already satisfied: matplotlib in c:\\users\\vivek\\appdata\\local\\programs\\python\\python310\\lib\\site-packages (3.5.3)\n",
      "Requirement already satisfied: numpy in c:\\users\\vivek\\appdata\\local\\programs\\python\\python310\\lib\\site-packages (1.26.4)\n",
      "Requirement already satisfied: pandas in c:\\users\\vivek\\appdata\\local\\programs\\python\\python310\\lib\\site-packages (1.3.5)\n",
      "Requirement already satisfied: torch in c:\\users\\vivek\\appdata\\local\\programs\\python\\python310\\lib\\site-packages (2.6.0)\n",
      "Requirement already satisfied: scikit-learn in c:\\users\\vivek\\appdata\\local\\programs\\python\\python310\\lib\\site-packages (1.1.3)\n",
      "Collecting transformers\n",
      "  Downloading transformers-4.48.3-py3-none-any.whl.metadata (44 kB)\n",
      "Requirement already satisfied: cycler>=0.10 in c:\\users\\vivek\\appdata\\local\\programs\\python\\python310\\lib\\site-packages (from matplotlib) (0.12.1)\n",
      "Requirement already satisfied: fonttools>=4.22.0 in c:\\users\\vivek\\appdata\\local\\programs\\python\\python310\\lib\\site-packages (from matplotlib) (4.55.8)\n",
      "Requirement already satisfied: kiwisolver>=1.0.1 in c:\\users\\vivek\\appdata\\local\\programs\\python\\python310\\lib\\site-packages (from matplotlib) (1.4.8)\n",
      "Requirement already satisfied: packaging>=20.0 in c:\\users\\vivek\\appdata\\local\\programs\\python\\python310\\lib\\site-packages (from matplotlib) (24.2)\n",
      "Requirement already satisfied: pillow>=6.2.0 in c:\\users\\vivek\\appdata\\local\\programs\\python\\python310\\lib\\site-packages (from matplotlib) (11.1.0)\n",
      "Requirement already satisfied: pyparsing>=2.2.1 in c:\\users\\vivek\\appdata\\local\\programs\\python\\python310\\lib\\site-packages (from matplotlib) (3.2.1)\n",
      "Requirement already satisfied: python-dateutil>=2.7 in c:\\users\\vivek\\appdata\\local\\programs\\python\\python310\\lib\\site-packages (from matplotlib) (2.8.2)\n",
      "Requirement already satisfied: pytz>=2017.3 in c:\\users\\vivek\\appdata\\local\\programs\\python\\python310\\lib\\site-packages (from pandas) (2022.7.1)\n",
      "Requirement already satisfied: filelock in c:\\users\\vivek\\appdata\\local\\programs\\python\\python310\\lib\\site-packages (from torch) (3.17.0)\n",
      "Requirement already satisfied: typing-extensions>=4.10.0 in c:\\users\\vivek\\appdata\\local\\programs\\python\\python310\\lib\\site-packages (from torch) (4.12.2)\n",
      "Requirement already satisfied: networkx in c:\\users\\vivek\\appdata\\local\\programs\\python\\python310\\lib\\site-packages (from torch) (2.6.3)\n",
      "Requirement already satisfied: jinja2 in c:\\users\\vivek\\appdata\\local\\programs\\python\\python310\\lib\\site-packages (from torch) (3.1.5)\n",
      "Requirement already satisfied: fsspec in c:\\users\\vivek\\appdata\\local\\programs\\python\\python310\\lib\\site-packages (from torch) (2025.2.0)\n",
      "Requirement already satisfied: sympy==1.13.1 in c:\\users\\vivek\\appdata\\local\\programs\\python\\python310\\lib\\site-packages (from torch) (1.13.1)\n",
      "Requirement already satisfied: mpmath<1.4,>=1.1.0 in c:\\users\\vivek\\appdata\\local\\programs\\python\\python310\\lib\\site-packages (from sympy==1.13.1->torch) (1.3.0)\n",
      "Requirement already satisfied: scipy>=1.3.2 in c:\\users\\vivek\\appdata\\local\\programs\\python\\python310\\lib\\site-packages (from scikit-learn) (1.10.1)\n",
      "Requirement already satisfied: joblib>=1.0.0 in c:\\users\\vivek\\appdata\\local\\programs\\python\\python310\\lib\\site-packages (from scikit-learn) (1.4.2)\n",
      "Requirement already satisfied: threadpoolctl>=2.0.0 in c:\\users\\vivek\\appdata\\local\\programs\\python\\python310\\lib\\site-packages (from scikit-learn) (3.5.0)\n",
      "Requirement already satisfied: huggingface-hub<1.0,>=0.24.0 in c:\\users\\vivek\\appdata\\local\\programs\\python\\python310\\lib\\site-packages (from transformers) (0.28.1)\n",
      "Requirement already satisfied: pyyaml>=5.1 in c:\\users\\vivek\\appdata\\local\\programs\\python\\python310\\lib\\site-packages (from transformers) (6.0.2)\n",
      "Requirement already satisfied: regex!=2019.12.17 in c:\\users\\vivek\\appdata\\local\\programs\\python\\python310\\lib\\site-packages (from transformers) (2022.10.31)\n",
      "Requirement already satisfied: requests in c:\\users\\vivek\\appdata\\local\\programs\\python\\python310\\lib\\site-packages (from transformers) (2.32.3)\n",
      "Collecting tokenizers<0.22,>=0.21 (from transformers)\n",
      "  Downloading tokenizers-0.21.0-cp39-abi3-win_amd64.whl.metadata (6.9 kB)\n",
      "Requirement already satisfied: safetensors>=0.4.1 in c:\\users\\vivek\\appdata\\local\\programs\\python\\python310\\lib\\site-packages (from transformers) (0.4.5)\n",
      "Requirement already satisfied: tqdm>=4.27 in c:\\users\\vivek\\appdata\\local\\programs\\python\\python310\\lib\\site-packages (from transformers) (4.67.1)\n",
      "Requirement already satisfied: six>=1.5 in c:\\users\\vivek\\appdata\\local\\programs\\python\\python310\\lib\\site-packages (from python-dateutil>=2.7->matplotlib) (1.17.0)\n",
      "Requirement already satisfied: colorama in c:\\users\\vivek\\appdata\\local\\programs\\python\\python310\\lib\\site-packages (from tqdm>=4.27->transformers) (0.4.6)\n",
      "Requirement already satisfied: MarkupSafe>=2.0 in c:\\users\\vivek\\appdata\\local\\programs\\python\\python310\\lib\\site-packages (from jinja2->torch) (3.0.2)\n",
      "Requirement already satisfied: charset-normalizer<4,>=2 in c:\\users\\vivek\\appdata\\local\\programs\\python\\python310\\lib\\site-packages (from requests->transformers) (3.4.1)\n",
      "Requirement already satisfied: idna<4,>=2.5 in c:\\users\\vivek\\appdata\\local\\programs\\python\\python310\\lib\\site-packages (from requests->transformers) (3.10)\n",
      "Requirement already satisfied: urllib3<3,>=1.21.1 in c:\\users\\vivek\\appdata\\local\\programs\\python\\python310\\lib\\site-packages (from requests->transformers) (2.3.0)\n",
      "Requirement already satisfied: certifi>=2017.4.17 in c:\\users\\vivek\\appdata\\local\\programs\\python\\python310\\lib\\site-packages (from requests->transformers) (2025.1.31)\n",
      "Downloading transformers-4.48.3-py3-none-any.whl (9.7 MB)\n",
      "   ---------------------------------------- 0.0/9.7 MB ? eta -:--:--\n",
      "   ---------------------------------------- 0.0/9.7 MB ? eta -:--:--\n",
      "   - -------------------------------------- 0.3/9.7 MB ? eta -:--:--\n",
      "   -- ------------------------------------- 0.5/9.7 MB 1.2 MB/s eta 0:00:08\n",
      "   ---- ----------------------------------- 1.0/9.7 MB 1.3 MB/s eta 0:00:07\n",
      "   ----- ---------------------------------- 1.3/9.7 MB 1.3 MB/s eta 0:00:07\n",
      "   -------- ------------------------------- 2.1/9.7 MB 1.8 MB/s eta 0:00:05\n",
      "   ----------- ---------------------------- 2.9/9.7 MB 2.1 MB/s eta 0:00:04\n",
      "   ---------------- ----------------------- 3.9/9.7 MB 2.5 MB/s eta 0:00:03\n",
      "   -------------------- ------------------- 5.0/9.7 MB 2.8 MB/s eta 0:00:02\n",
      "   -------------------------- ------------- 6.3/9.7 MB 3.2 MB/s eta 0:00:02\n",
      "   ------------------------------- -------- 7.6/9.7 MB 3.5 MB/s eta 0:00:01\n",
      "   ---------------------------------------  9.4/9.7 MB 3.9 MB/s eta 0:00:01\n",
      "   ---------------------------------------- 9.7/9.7 MB 3.9 MB/s eta 0:00:00\n",
      "Downloading tokenizers-0.21.0-cp39-abi3-win_amd64.whl (2.4 MB)\n",
      "   ---------------------------------------- 0.0/2.4 MB ? eta -:--:--\n",
      "   -------------------------- ------------- 1.6/2.4 MB 7.6 MB/s eta 0:00:01\n",
      "   ---------------------------------------- 2.4/2.4 MB 6.8 MB/s eta 0:00:00\n",
      "Installing collected packages: tokenizers, transformers\n",
      "Successfully installed tokenizers-0.21.0 transformers-4.48.3\n"
     ]
    }
   ],
   "source": [
    "!pip install matplotlib numpy pandas torch scikit-learn transformers\n"
   ]
  },
  {
   "cell_type": "code",
   "execution_count": 3,
   "id": "bfe7d45c",
   "metadata": {
    "_cell_guid": "b1076dfc-b9ad-4769-8c92-a6c4dae69d19",
    "_uuid": "8f2839f25d086af736a60e9eeb907d3b93b6e0e5",
    "papermill": {
     "duration": 17.647988,
     "end_time": "2025-01-18T07:20:10.319235",
     "exception": false,
     "start_time": "2025-01-18T07:19:52.671247",
     "status": "completed"
    },
    "tags": []
   },
   "outputs": [],
   "source": [
    "import time\n",
    "\n",
    "import matplotlib.pyplot as plt\n",
    "import numpy as np\n",
    "import pandas as pd\n",
    "import torch\n",
    "from sklearn.metrics import ConfusionMatrixDisplay, classification_report\n",
    "from sklearn.model_selection import train_test_split\n",
    "from sklearn.preprocessing import LabelEncoder\n",
    "from torch.utils.data import DataLoader, Dataset\n",
    "from transformers import (\n",
    "    AutoModelForSequenceClassification, \n",
    "    AutoTokenizer,\n",
    "    logging, \n",
    "    pipeline,\n",
    ")\n",
    "\n",
    "DATA_DIR = \"lang.csv\"\n",
    "MODEL_NAME = \"bert-base-multilingual-uncased\"\n",
    "RANDOM_STATE = 12345\n",
    "BATCH_SIZE = 64\n",
    "DEVICE = torch.device(\"cuda\" if torch.cuda.is_available() else \"cpu\")\n",
    "NUM_EPOCHS = 1\n",
    "LEARNING_RATE = 5e-5\n",
    "\n",
    "torch.backends.cudnn.deterministic = True\n",
    "torch.manual_seed(RANDOM_STATE)\n",
    "logging.set_verbosity_error()"
   ]
  },
  {
   "cell_type": "code",
   "execution_count": 4,
   "id": "6e988ff8",
   "metadata": {
    "papermill": {
     "duration": 0.013551,
     "end_time": "2025-01-18T07:20:10.340163",
     "exception": false,
     "start_time": "2025-01-18T07:20:10.326612",
     "status": "completed"
    },
    "tags": []
   },
   "outputs": [
    {
     "name": "stdout",
     "output_type": "stream",
     "text": [
      "Device used: cpu\n"
     ]
    }
   ],
   "source": [
    "# Displaying the device used for fune-tuning BERT\n",
    "print(f\"Device used: {DEVICE}\")"
   ]
  },
  {
   "cell_type": "markdown",
   "id": "d9d5c7ce",
   "metadata": {
    "papermill": {
     "duration": 0.007462,
     "end_time": "2025-01-18T07:20:10.355122",
     "exception": false,
     "start_time": "2025-01-18T07:20:10.347660",
     "status": "completed"
    },
    "tags": []
   },
   "source": [
    "# Loading data"
   ]
  },
  {
   "cell_type": "code",
   "execution_count": 6,
   "id": "85d3e22a",
   "metadata": {
    "papermill": {
     "duration": 0.111928,
     "end_time": "2025-01-18T07:20:10.474196",
     "exception": false,
     "start_time": "2025-01-18T07:20:10.362268",
     "status": "completed"
    },
    "tags": []
   },
   "outputs": [
    {
     "data": {
      "text/html": [
       "<div>\n",
       "<style scoped>\n",
       "    .dataframe tbody tr th:only-of-type {\n",
       "        vertical-align: middle;\n",
       "    }\n",
       "\n",
       "    .dataframe tbody tr th {\n",
       "        vertical-align: top;\n",
       "    }\n",
       "\n",
       "    .dataframe thead th {\n",
       "        text-align: right;\n",
       "    }\n",
       "</style>\n",
       "<table border=\"1\" class=\"dataframe\">\n",
       "  <thead>\n",
       "    <tr style=\"text-align: right;\">\n",
       "      <th></th>\n",
       "      <th>Text</th>\n",
       "      <th>Language</th>\n",
       "    </tr>\n",
       "  </thead>\n",
       "  <tbody>\n",
       "    <tr>\n",
       "      <th>1346</th>\n",
       "      <td>oh dear one night when she was sleeping her mo...</td>\n",
       "      <td>English</td>\n",
       "    </tr>\n",
       "    <tr>\n",
       "      <th>2184</th>\n",
       "      <td>சந்திப்பு அல்லது தேதி என்று சொல்வது மிகவும் பி...</td>\n",
       "      <td>Tamil</td>\n",
       "    </tr>\n",
       "    <tr>\n",
       "      <th>4718</th>\n",
       "      <td>wat dacht je van een ijsje?</td>\n",
       "      <td>Dutch</td>\n",
       "    </tr>\n",
       "    <tr>\n",
       "      <th>1041</th>\n",
       "      <td>i'm deluged with assignments smart word number...</td>\n",
       "      <td>English</td>\n",
       "    </tr>\n",
       "    <tr>\n",
       "      <th>6772</th>\n",
       "      <td>han er så klar og suave, især foran damerne el...</td>\n",
       "      <td>Danish</td>\n",
       "    </tr>\n",
       "    <tr>\n",
       "      <th>6983</th>\n",
       "      <td>Jeg har ikke en mening om sagen.</td>\n",
       "      <td>Danish</td>\n",
       "    </tr>\n",
       "    <tr>\n",
       "      <th>2374</th>\n",
       "      <td>என்னைப் பொருத்தவரை, இது நகரத்தின் சிறந்த உணவகம்.</td>\n",
       "      <td>Tamil</td>\n",
       "    </tr>\n",
       "    <tr>\n",
       "      <th>4856</th>\n",
       "      <td>Existe cierta polémica entre los fundadores de...</td>\n",
       "      <td>Spanish</td>\n",
       "    </tr>\n",
       "    <tr>\n",
       "      <th>4209</th>\n",
       "      <td>Veuillez accepter mes excuses.</td>\n",
       "      <td>French</td>\n",
       "    </tr>\n",
       "    <tr>\n",
       "      <th>7140</th>\n",
       "      <td>Wales cedette tutti i diritti alla fondazione ...</td>\n",
       "      <td>Italian</td>\n",
       "    </tr>\n",
       "    <tr>\n",
       "      <th>840</th>\n",
       "      <td>Through iterative optimization of an objective...</td>\n",
       "      <td>English</td>\n",
       "    </tr>\n",
       "    <tr>\n",
       "      <th>8550</th>\n",
       "      <td>Författarna har klassificerat sidorna i elva o...</td>\n",
       "      <td>Sweedish</td>\n",
       "    </tr>\n",
       "    <tr>\n",
       "      <th>26</th>\n",
       "      <td>Convective motion in the core generates electr...</td>\n",
       "      <td>English</td>\n",
       "    </tr>\n",
       "    <tr>\n",
       "      <th>858</th>\n",
       "      <td>In weakly supervised learning, the training la...</td>\n",
       "      <td>English</td>\n",
       "    </tr>\n",
       "    <tr>\n",
       "      <th>541</th>\n",
       "      <td>[213] That law bans photographic child pornogr...</td>\n",
       "      <td>English</td>\n",
       "    </tr>\n",
       "    <tr>\n",
       "      <th>806</th>\n",
       "      <td>[30] Machine learning and data mining often em...</td>\n",
       "      <td>English</td>\n",
       "    </tr>\n",
       "    <tr>\n",
       "      <th>8646</th>\n",
       "      <td>och en skarp vinkel är denna skarpa vinkel min...</td>\n",
       "      <td>Sweedish</td>\n",
       "    </tr>\n",
       "    <tr>\n",
       "      <th>7261</th>\n",
       "      <td>L'esempio tedesco è stato ripreso altrove per ...</td>\n",
       "      <td>Italian</td>\n",
       "    </tr>\n",
       "    <tr>\n",
       "      <th>7454</th>\n",
       "      <td>L'apprendimento automatico solleva un numero d...</td>\n",
       "      <td>Italian</td>\n",
       "    </tr>\n",
       "    <tr>\n",
       "      <th>5296</th>\n",
       "      <td>nosotros' He aprendido muchas de estas palabra...</td>\n",
       "      <td>Spanish</td>\n",
       "    </tr>\n",
       "    <tr>\n",
       "      <th>8610</th>\n",
       "      <td>Du kan säga till dem jag är så ledsen men jag ...</td>\n",
       "      <td>Sweedish</td>\n",
       "    </tr>\n",
       "    <tr>\n",
       "      <th>6872</th>\n",
       "      <td>det betyder ikke noget, om du vil ønske nogen ...</td>\n",
       "      <td>Danish</td>\n",
       "    </tr>\n",
       "    <tr>\n",
       "      <th>7614</th>\n",
       "      <td>affonda, dici: riprenditi come letteralmente p...</td>\n",
       "      <td>Italian</td>\n",
       "    </tr>\n",
       "    <tr>\n",
       "      <th>9942</th>\n",
       "      <td>Es ist kalt.</td>\n",
       "      <td>German</td>\n",
       "    </tr>\n",
       "    <tr>\n",
       "      <th>6514</th>\n",
       "      <td>большое спасибо.</td>\n",
       "      <td>Russian</td>\n",
       "    </tr>\n",
       "    <tr>\n",
       "      <th>5317</th>\n",
       "      <td>bueno, solo puedes responder, no puedo quejarm...</td>\n",
       "      <td>Spanish</td>\n",
       "    </tr>\n",
       "    <tr>\n",
       "      <th>8444</th>\n",
       "      <td>Därför är dessa avsevärt mer känsliga för star...</td>\n",
       "      <td>Sweedish</td>\n",
       "    </tr>\n",
       "    <tr>\n",
       "      <th>5357</th>\n",
       "      <td>no importa si quieres desearle suerte a alguien.</td>\n",
       "      <td>Spanish</td>\n",
       "    </tr>\n",
       "    <tr>\n",
       "      <th>5400</th>\n",
       "      <td>Oh Dios mío.</td>\n",
       "      <td>Spanish</td>\n",
       "    </tr>\n",
       "    <tr>\n",
       "      <th>5996</th>\n",
       "      <td>Публикует исследования, посвящённые широкому к...</td>\n",
       "      <td>Russian</td>\n",
       "    </tr>\n",
       "  </tbody>\n",
       "</table>\n",
       "</div>"
      ],
      "text/plain": [
       "                                                   Text  Language\n",
       "1346  oh dear one night when she was sleeping her mo...   English\n",
       "2184  சந்திப்பு அல்லது தேதி என்று சொல்வது மிகவும் பி...     Tamil\n",
       "4718                        wat dacht je van een ijsje?     Dutch\n",
       "1041  i'm deluged with assignments smart word number...   English\n",
       "6772  han er så klar og suave, især foran damerne el...    Danish\n",
       "6983                   Jeg har ikke en mening om sagen.    Danish\n",
       "2374   என்னைப் பொருத்தவரை, இது நகரத்தின் சிறந்த உணவகம்.     Tamil\n",
       "4856  Existe cierta polémica entre los fundadores de...   Spanish\n",
       "4209                     Veuillez accepter mes excuses.    French\n",
       "7140  Wales cedette tutti i diritti alla fondazione ...   Italian\n",
       "840   Through iterative optimization of an objective...   English\n",
       "8550  Författarna har klassificerat sidorna i elva o...  Sweedish\n",
       "26    Convective motion in the core generates electr...   English\n",
       "858   In weakly supervised learning, the training la...   English\n",
       "541   [213] That law bans photographic child pornogr...   English\n",
       "806   [30] Machine learning and data mining often em...   English\n",
       "8646  och en skarp vinkel är denna skarpa vinkel min...  Sweedish\n",
       "7261  L'esempio tedesco è stato ripreso altrove per ...   Italian\n",
       "7454  L'apprendimento automatico solleva un numero d...   Italian\n",
       "5296  nosotros' He aprendido muchas de estas palabra...   Spanish\n",
       "8610  Du kan säga till dem jag är så ledsen men jag ...  Sweedish\n",
       "6872  det betyder ikke noget, om du vil ønske nogen ...    Danish\n",
       "7614  affonda, dici: riprenditi come letteralmente p...   Italian\n",
       "9942                                       Es ist kalt.    German\n",
       "6514                                   большое спасибо.   Russian\n",
       "5317  bueno, solo puedes responder, no puedo quejarm...   Spanish\n",
       "8444  Därför är dessa avsevärt mer känsliga för star...  Sweedish\n",
       "5357   no importa si quieres desearle suerte a alguien.   Spanish\n",
       "5400                                       Oh Dios mío.   Spanish\n",
       "5996  Публикует исследования, посвящённые широкому к...   Russian"
      ]
     },
     "execution_count": 6,
     "metadata": {},
     "output_type": "execute_result"
    }
   ],
   "source": [
    "# Loading the data\n",
    "lang_data = pd.read_csv(DATA_DIR )\n",
    "\n",
    "# Displaying random 30 rows\n",
    "lang_data.sample(n=30, random_state=RANDOM_STATE)"
   ]
  },
  {
   "cell_type": "code",
   "execution_count": 7,
   "id": "3503246a",
   "metadata": {
    "papermill": {
     "duration": 0.028298,
     "end_time": "2025-01-18T07:20:10.509792",
     "exception": false,
     "start_time": "2025-01-18T07:20:10.481494",
     "status": "completed"
    },
    "tags": []
   },
   "outputs": [
    {
     "name": "stdout",
     "output_type": "stream",
     "text": [
      "<class 'pandas.core.frame.DataFrame'>\n",
      "RangeIndex: 10337 entries, 0 to 10336\n",
      "Data columns (total 2 columns):\n",
      " #   Column    Non-Null Count  Dtype \n",
      "---  ------    --------------  ----- \n",
      " 0   Text      10337 non-null  object\n",
      " 1   Language  10337 non-null  object\n",
      "dtypes: object(2)\n",
      "memory usage: 161.6+ KB\n"
     ]
    }
   ],
   "source": [
    "# Displaying a concise summary of the data\n",
    "lang_data.info()"
   ]
  },
  {
   "cell_type": "markdown",
   "id": "8271f565",
   "metadata": {
    "papermill": {
     "duration": 0.00707,
     "end_time": "2025-01-18T07:20:10.524278",
     "exception": false,
     "start_time": "2025-01-18T07:20:10.517208",
     "status": "completed"
    },
    "tags": []
   },
   "source": [
    "# Data exploration"
   ]
  },
  {
   "cell_type": "code",
   "execution_count": 8,
   "id": "b452f9b1",
   "metadata": {
    "papermill": {
     "duration": 0.447009,
     "end_time": "2025-01-18T07:20:10.978511",
     "exception": false,
     "start_time": "2025-01-18T07:20:10.531502",
     "status": "completed"
    },
    "tags": []
   },
   "outputs": [
    {
     "data": {
      "image/png": "[encoded data removed]",
      "text/plain": [
       "<Figure size 640x480 with 1 Axes>"
      ]
     },
     "metadata": {},
     "output_type": "display_data"
    }
   ],
   "source": [
    "# Plotting the structure of the target variable\n",
    "lang_counts = lang_data[\"Language\"].value_counts(normalize=True)\n",
    "lang_counts.plot(kind=\"bar\")\n",
    "plt.title(\"Shares of objects in each language class\", fontsize=15)\n",
    "plt.ylabel(\"Proportion of objects\")\n",
    "plt.tight_layout()\n",
    "plt.show()"
   ]
  },
  {
   "cell_type": "markdown",
   "id": "ff185476",
   "metadata": {
    "papermill": {
     "duration": 0.007737,
     "end_time": "2025-01-18T07:20:10.994363",
     "exception": false,
     "start_time": "2025-01-18T07:20:10.986626",
     "status": "completed"
    },
    "tags": []
   },
   "source": [
    "# Encoding labels"
   ]
  },
  {
   "cell_type": "code",
   "execution_count": 9,
   "id": "1c1982db",
   "metadata": {
    "papermill": {
     "duration": 0.636561,
     "end_time": "2025-01-18T07:20:11.638813",
     "exception": false,
     "start_time": "2025-01-18T07:20:11.002252",
     "status": "completed"
    },
    "tags": []
   },
   "outputs": [],
   "source": [
    "# Retrieving the text data\n",
    "texts_data = lang_data[\"Text\"].values.astype(\"U\")\n",
    "\n",
    "# Retrieving the labels data\n",
    "labels_data = lang_data[\"Language\"].values"
   ]
  },
  {
   "cell_type": "code",
   "execution_count": 10,
   "id": "8b31ceb9",
   "metadata": {
    "papermill": {
     "duration": 0.017199,
     "end_time": "2025-01-18T07:20:11.664474",
     "exception": false,
     "start_time": "2025-01-18T07:20:11.647275",
     "status": "completed"
    },
    "tags": []
   },
   "outputs": [
    {
     "name": "stdout",
     "output_type": "stream",
     "text": [
      "0  => Arabic\n",
      "1  => Danish\n",
      "2  => Dutch\n",
      "3  => English\n",
      "4  => French\n",
      "5  => German\n",
      "6  => Greek\n",
      "7  => Hindi\n",
      "8  => Italian\n",
      "9  => Kannada\n",
      "10 => Malayalam\n",
      "11 => Portugeese\n",
      "12 => Russian\n",
      "13 => Spanish\n",
      "14 => Sweedish\n",
      "15 => Tamil\n",
      "16 => Turkish\n"
     ]
    }
   ],
   "source": [
    "# Instantiating the LabelEncoder object\n",
    "label_encoder = LabelEncoder()\n",
    "\n",
    "# Encoding the labels\n",
    "labels_data_encoded = label_encoder.fit_transform(labels_data)\n",
    "class_names = label_encoder.classes_\n",
    "\n",
    "# Displaying the encoding results\n",
    "for idx, class_name in enumerate(class_names):\n",
    "    print(f\"{idx:<2} => {class_name}\")"
   ]
  },
  {
   "cell_type": "markdown",
   "id": "8761be9a",
   "metadata": {
    "papermill": {
     "duration": 0.007633,
     "end_time": "2025-01-18T07:20:11.680024",
     "exception": false,
     "start_time": "2025-01-18T07:20:11.672391",
     "status": "completed"
    },
    "tags": []
   },
   "source": [
    "# Splitting data"
   ]
  },
  {
   "cell_type": "code",
   "execution_count": 11,
   "id": "613f472d",
   "metadata": {
    "papermill": {
     "duration": 0.818314,
     "end_time": "2025-01-18T07:20:12.550136",
     "exception": false,
     "start_time": "2025-01-18T07:20:11.731822",
     "status": "completed"
    },
    "tags": []
   },
   "outputs": [],
   "source": [
    "# Separating data into training set and validation/test sets\n",
    "(\n",
    "training_texts, \n",
    "validation_testing_texts, \n",
    "training_labels, \n",
    "validation_testing_labels\n",
    ") = train_test_split(\n",
    "    texts_data,\n",
    "    labels_data_encoded,\n",
    "    train_size=0.8,\n",
    "    random_state=RANDOM_STATE,\n",
    "    stratify=labels_data_encoded,\n",
    ")\n",
    "\n",
    "# Separating validation and test sets\n",
    "(\n",
    "validation_texts, \n",
    "testing_texts, \n",
    "validation_labels, \n",
    "testing_labels\n",
    ") = train_test_split(\n",
    "    validation_testing_texts,\n",
    "    validation_testing_labels,\n",
    "    train_size=0.5,\n",
    "    random_state=RANDOM_STATE,\n",
    "    stratify=validation_testing_labels,\n",
    ")"
   ]
  },
  {
   "cell_type": "code",
   "execution_count": 12,
   "id": "63e2f5f5",
   "metadata": {
    "papermill": {
     "duration": 0.018289,
     "end_time": "2025-01-18T07:20:12.579796",
     "exception": false,
     "start_time": "2025-01-18T07:20:12.561507",
     "status": "completed"
    },
    "tags": []
   },
   "outputs": [
    {
     "data": {
      "text/plain": [
       "(8269, 1034, 1034)"
      ]
     },
     "execution_count": 12,
     "metadata": {},
     "output_type": "execute_result"
    }
   ],
   "source": [
    "# Verifying the correctness of dimensions\n",
    "assert (\n",
    "    training_texts.shape[0] + validation_texts.shape[0] + testing_texts.shape[0] \\\n",
    "    == texts_data.shape[0]\n",
    ")\n",
    "\n",
    "# Displaying the number of objects in each set\n",
    "training_texts.shape[0], validation_texts.shape[0], testing_texts.shape[0]"
   ]
  },
  {
   "cell_type": "markdown",
   "id": "981651bf",
   "metadata": {
    "papermill": {
     "duration": 0.009212,
     "end_time": "2025-01-18T07:20:12.597443",
     "exception": false,
     "start_time": "2025-01-18T07:20:12.588231",
     "status": "completed"
    },
    "tags": []
   },
   "source": [
    "# Data vizualization"
   ]
  },
  {
   "cell_type": "code",
   "execution_count": 13,
   "id": "a19a6ec8",
   "metadata": {
    "papermill": {
     "duration": 0.017914,
     "end_time": "2025-01-18T07:20:12.623720",
     "exception": false,
     "start_time": "2025-01-18T07:20:12.605806",
     "status": "completed"
    },
    "tags": []
   },
   "outputs": [],
   "source": [
    "def plot_target_structure(labels, fig_title=\"Title_1\"):\n",
    "    \"\"\"Plotting the shares of Dataset labels.\"\"\"\n",
    "    # Computing the unique labels\n",
    "    unique_labels = np.unique(labels)\n",
    "    # Computing the number of objects within each class\n",
    "    labels_count = np.bincount(labels)\n",
    "    \n",
    "    # Computing the shares of objects in each class\n",
    "    n_obj = labels.shape[0]\n",
    "    \n",
    "    labels_info_share = pd.Series(\n",
    "        labels_count, index=label_encoder.classes_\n",
    "    ) / n_obj\n",
    "    \n",
    "    # Plotting a figure\n",
    "    labels_info_share.plot(kind=\"bar\")\n",
    "    plt.xticks(rotation=0)\n",
    "    plt.title(fig_title, fontsize=15)\n",
    "    plt.xlabel(\"Class name\")\n",
    "    plt.ylabel(\"Proportion of objects\")\n",
    "    plt.xticks(rotation=90)\n",
    "    plt.tight_layout()\n",
    "    plt.show()"
   ]
  },
  {
   "cell_type": "code",
   "execution_count": 14,
   "id": "a4e0c630",
   "metadata": {
    "papermill": {
     "duration": 0.428081,
     "end_time": "2025-01-18T07:20:13.060485",
     "exception": false,
     "start_time": "2025-01-18T07:20:12.632404",
     "status": "completed"
    },
    "tags": []
   },
   "outputs": [
    {
     "data": {
      "image/png": "[encoded data removed]",
      "text/plain": [
       "<Figure size 640x480 with 1 Axes>"
      ]
     },
     "metadata": {},
     "output_type": "display_data"
    }
   ],
   "source": [
    "plot_target_structure(\n",
    "    labels=labels_data_encoded, fig_title=\"Full data set\"\n",
    ")"
   ]
  },
  {
   "cell_type": "code",
   "execution_count": 15,
   "id": "f0f52d57",
   "metadata": {
    "papermill": {
     "duration": 0.419985,
     "end_time": "2025-01-18T07:20:13.490119",
     "exception": false,
     "start_time": "2025-01-18T07:20:13.070134",
     "status": "completed"
    },
    "tags": []
   },
   "outputs": [
    {
     "data": {
      "image/png": "[encoded data removed]",
      "text/plain": [
       "<Figure size 640x480 with 1 Axes>"
      ]
     },
     "metadata": {},
     "output_type": "display_data"
    }
   ],
   "source": [
    "plot_target_structure(\n",
    "    labels=training_labels, fig_title=\"Training set\"\n",
    ")"
   ]
  },
  {
   "cell_type": "code",
   "execution_count": 16,
   "id": "019beb4d",
   "metadata": {
    "papermill": {
     "duration": 0.415074,
     "end_time": "2025-01-18T07:20:13.914907",
     "exception": false,
     "start_time": "2025-01-18T07:20:13.499833",
     "status": "completed"
    },
    "tags": []
   },
   "outputs": [
    {
     "data": {
      "image/png": "[encoded data removed]",
      "text/plain": [
       "<Figure size 640x480 with 1 Axes>"
      ]
     },
     "metadata": {},
     "output_type": "display_data"
    }
   ],
   "source": [
    "plot_target_structure(\n",
    "    labels=validation_labels, fig_title=\"Validation set\"\n",
    ")"
   ]
  },
  {
   "cell_type": "code",
   "execution_count": 17,
   "id": "5baf1593",
   "metadata": {
    "papermill": {
     "duration": 0.42265,
     "end_time": "2025-01-18T07:20:14.348497",
     "exception": false,
     "start_time": "2025-01-18T07:20:13.925847",
     "status": "completed"
    },
    "tags": []
   },
   "outputs": [
    {
     "data": {
      "image/png": "[encoded data removed]",
      "text/plain": [
       "<Figure size 640x480 with 1 Axes>"
      ]
     },
     "metadata": {},
     "output_type": "display_data"
    }
   ],
   "source": [
    "plot_target_structure(\n",
    "    labels=testing_labels, fig_title=\"Test set\"\n",
    ")"
   ]
  },
  {
   "cell_type": "markdown",
   "id": "513b26f1",
   "metadata": {
    "papermill": {
     "duration": 0.010772,
     "end_time": "2025-01-18T07:20:14.370067",
     "exception": false,
     "start_time": "2025-01-18T07:20:14.359295",
     "status": "completed"
    },
    "tags": []
   },
   "source": [
    "# Tokenization"
   ]
  },
  {
   "cell_type": "code",
   "execution_count": 18,
   "id": "c8663066",
   "metadata": {
    "papermill": {
     "duration": 4.572088,
     "end_time": "2025-01-18T07:20:18.952559",
     "exception": false,
     "start_time": "2025-01-18T07:20:14.380471",
     "status": "completed"
    },
    "tags": []
   },
   "outputs": [
    {
     "data": {
      "application/vnd.jupyter.widget-view+json": {
       "model_id": "9799281189c34af8b12759c0a2e22c8a",
       "version_major": 2,
       "version_minor": 0
      },
      "text/plain": [
       "tokenizer_config.json:   0%|          | 0.00/48.0 [00:00<?, ?B/s]"
      ]
     },
     "metadata": {},
     "output_type": "display_data"
    },
    {
     "name": "stderr",
     "output_type": "stream",
     "text": [
      "C:\\Users\\vivek\\AppData\\Local\\Programs\\Python\\Python310\\lib\\site-packages\\huggingface_hub\\file_download.py:140: UserWarning: `huggingface_hub` cache-system uses symlinks by default to efficiently store duplicated files but your machine does not support them in C:\\Users\\vivek\\.cache\\huggingface\\hub\\models--bert-base-multilingual-uncased. Caching files will still work but in a degraded version that might require more space on your disk. This warning can be disabled by setting the `HF_HUB_DISABLE_SYMLINKS_WARNING` environment variable. For more details, see https://huggingface.co/docs/huggingface_hub/how-to-cache#limitations.\n",
      "To support symlinks on Windows, you either need to activate Developer Mode or to run Python as an administrator. In order to activate developer mode, see this article: https://docs.microsoft.com/en-us/windows/apps/get-started/enable-your-device-for-development\n",
      "  warnings.warn(message)\n"
     ]
    },
    {
     "data": {
      "application/vnd.jupyter.widget-view+json": {
       "model_id": "169300179c744f85bd5cc746577a86aa",
       "version_major": 2,
       "version_minor": 0
      },
      "text/plain": [
       "config.json:   0%|          | 0.00/625 [00:00<?, ?B/s]"
      ]
     },
     "metadata": {},
     "output_type": "display_data"
    },
    {
     "data": {
      "application/vnd.jupyter.widget-view+json": {
       "model_id": "63fdcaf97fad4bfa897e558a952ac6a8",
       "version_major": 2,
       "version_minor": 0
      },
      "text/plain": [
       "vocab.txt:   0%|          | 0.00/872k [00:00<?, ?B/s]"
      ]
     },
     "metadata": {},
     "output_type": "display_data"
    },
    {
     "data": {
      "application/vnd.jupyter.widget-view+json": {
       "model_id": "1dc97f585fb74c43be77cadd3554169c",
       "version_major": 2,
       "version_minor": 0
      },
      "text/plain": [
       "tokenizer.json:   0%|          | 0.00/1.72M [00:00<?, ?B/s]"
      ]
     },
     "metadata": {},
     "output_type": "display_data"
    }
   ],
   "source": [
    "# Instantiating a BERT tokenizer\n",
    "bert_tokenizer = AutoTokenizer.from_pretrained(MODEL_NAME)"
   ]
  },
  {
   "cell_type": "code",
   "execution_count": 19,
   "id": "3010f244",
   "metadata": {
    "papermill": {
     "duration": 1.410605,
     "end_time": "2025-01-18T07:20:20.374551",
     "exception": false,
     "start_time": "2025-01-18T07:20:18.963946",
     "status": "completed"
    },
    "tags": []
   },
   "outputs": [],
   "source": [
    "# Tokenizing the training examples\n",
    "training_encodings = bert_tokenizer(\n",
    "    list(training_texts),\n",
    "    add_special_tokens=True,\n",
    "    max_length=128,\n",
    "    truncation=True, \n",
    "    padding=\"max_length\",\n",
    ")\n",
    "\n",
    "# Tokenizing the validation examples\n",
    "validation_encodings = bert_tokenizer(\n",
    "    list(validation_texts),\n",
    "    add_special_tokens=True,\n",
    "    max_length=128,\n",
    "    truncation=True, \n",
    "    padding=\"max_length\",\n",
    ")\n",
    "\n",
    "# Tokenizing the testing examples\n",
    "testing_encodings = bert_tokenizer(\n",
    "    list(testing_texts),\n",
    "    add_special_tokens=True,\n",
    "    max_length=128,\n",
    "    truncation=True,\n",
    "    padding=\"max_length\",\n",
    ")"
   ]
  },
  {
   "cell_type": "code",
   "execution_count": 20,
   "id": "21a1766b",
   "metadata": {
    "papermill": {
     "duration": 0.018525,
     "end_time": "2025-01-18T07:20:20.404494",
     "exception": false,
     "start_time": "2025-01-18T07:20:20.385969",
     "status": "completed"
    },
    "tags": []
   },
   "outputs": [],
   "source": [
    "def display_encodings_info(\n",
    "    tokenizer, \n",
    "    encodings, \n",
    "    texts, \n",
    "    labels,\n",
    "    text_idx\n",
    "):\n",
    "    \"\"\"Shows the original, encoded and decoded texts.\"\"\"\n",
    "    # Displaying the original text\n",
    "    text = texts[text_idx]\n",
    "    print(f\"Input text:\\n{text}\\n\")\n",
    "    \n",
    "    # Displaying the language of the text\n",
    "    lang_label = labels[text_idx]\n",
    "    lang = class_names[lang_label]\n",
    "    print(f\"Language: {lang}\\n\")\n",
    "    \n",
    "    # Displaying the encoded text\n",
    "    text_encoded = encodings[\"input_ids\"][text_idx]\n",
    "    print(f\"Tokenized input text (encoded):\\n{text_encoded}\\n\")\n",
    "    \n",
    "    # Displaying the decoded text\n",
    "    text_decoded = tokenizer.convert_ids_to_tokens(text_encoded)\n",
    "    print(f\"Tokenized input text (decoded):\\n{text_decoded}\")"
   ]
  },
  {
   "cell_type": "code",
   "execution_count": 21,
   "id": "66be24a6",
   "metadata": {
    "papermill": {
     "duration": 0.017732,
     "end_time": "2025-01-18T07:20:20.433026",
     "exception": false,
     "start_time": "2025-01-18T07:20:20.415294",
     "status": "completed"
    },
    "tags": []
   },
   "outputs": [
    {
     "name": "stdout",
     "output_type": "stream",
     "text": [
      "Input text:\n",
      "est une façon très française de dire réunion ou date par exemple j'ai rendez-vous avec mes amis pendant le déjeuner le samedi ou je prévois de rendez-vous avec mes amis au centre commercial pour les films rendez-vous peut être utilisé à la fois comme nom ou comme verbe par exemple.\n",
      "\n",
      "Language: French\n",
      "\n",
      "Tokenized input text (encoded):\n",
      "[101, 10182, 10249, 28495, 10860, 13903, 10102, 18759, 22600, 10391, 13114, 10263, 15129, 152, 112, 11279, 74427, 118, 22812, 10516, 11019, 32378, 14055, 10130, 10102, 10378, 18712, 10131, 10130, 11714, 10777, 10391, 10149, 12021, 88710, 10102, 74427, 118, 22812, 10516, 11019, 32378, 10257, 11534, 16229, 10343, 10152, 13076, 74427, 118, 22812, 12835, 11787, 18814, 143, 10106, 13488, 11043, 11542, 10391, 11043, 49896, 10111, 10263, 15129, 119, 102, 0, 0, 0, 0, 0, 0, 0, 0, 0, 0, 0, 0, 0, 0, 0, 0, 0, 0, 0, 0, 0, 0, 0, 0, 0, 0, 0, 0, 0, 0, 0, 0, 0, 0, 0, 0, 0, 0, 0, 0, 0, 0, 0, 0, 0, 0, 0, 0, 0, 0, 0, 0, 0, 0, 0, 0, 0, 0, 0, 0, 0]\n",
      "\n",
      "Tokenized input text (decoded):\n",
      "['[CLS]', 'est', 'une', 'facon', 'tres', 'francaise', 'de', 'dire', 'reunion', 'ou', 'date', 'par', 'exemple', 'j', \"'\", 'ai', 'rendez', '-', 'vous', 'avec', 'mes', 'amis', 'pendant', 'le', 'de', '##je', '##une', '##r', 'le', 'same', '##di', 'ou', 'je', 'pre', '##vois', 'de', 'rendez', '-', 'vous', 'avec', 'mes', 'amis', 'au', 'centre', 'commercial', 'pour', 'les', 'films', 'rendez', '-', 'vous', 'peut', 'etre', 'utilise', 'a', 'la', 'fois', 'comme', 'nom', 'ou', 'comme', 'verb', '##e', 'par', 'exemple', '.', '[SEP]', '[PAD]', '[PAD]', '[PAD]', '[PAD]', '[PAD]', '[PAD]', '[PAD]', '[PAD]', '[PAD]', '[PAD]', '[PAD]', '[PAD]', '[PAD]', '[PAD]', '[PAD]', '[PAD]', '[PAD]', '[PAD]', '[PAD]', '[PAD]', '[PAD]', '[PAD]', '[PAD]', '[PAD]', '[PAD]', '[PAD]', '[PAD]', '[PAD]', '[PAD]', '[PAD]', '[PAD]', '[PAD]', '[PAD]', '[PAD]', '[PAD]', '[PAD]', '[PAD]', '[PAD]', '[PAD]', '[PAD]', '[PAD]', '[PAD]', '[PAD]', '[PAD]', '[PAD]', '[PAD]', '[PAD]', '[PAD]', '[PAD]', '[PAD]', '[PAD]', '[PAD]', '[PAD]', '[PAD]', '[PAD]', '[PAD]', '[PAD]', '[PAD]', '[PAD]', '[PAD]', '[PAD]']\n"
     ]
    }
   ],
   "source": [
    "display_encodings_info(\n",
    "    tokenizer=bert_tokenizer,\n",
    "    encodings=training_encodings, \n",
    "    texts=training_texts, \n",
    "    labels=training_labels,\n",
    "    text_idx=990,\n",
    ")"
   ]
  },
  {
   "cell_type": "code",
   "execution_count": 22,
   "id": "e85a4451",
   "metadata": {
    "papermill": {
     "duration": 0.017938,
     "end_time": "2025-01-18T07:20:20.462448",
     "exception": false,
     "start_time": "2025-01-18T07:20:20.444510",
     "status": "completed"
    },
    "tags": []
   },
   "outputs": [
    {
     "name": "stdout",
     "output_type": "stream",
     "text": [
      "Input text:\n",
      "Essa foi a primeira enciclopédia interativa (e também foi o primeiro grande documento multimídia conectado através de links internos), sendo a maioria dos artigos acessíveis através de um mapa interativo do Reino Unido.\n",
      "\n",
      "Language: Portugeese\n",
      "\n",
      "Tokenized input text (encoded):\n",
      "[101, 18416, 10464, 143, 13664, 36286, 49487, 16689, 113, 147, 12014, 10464, 157, 13552, 11031, 34132, 17682, 10555, 14302, 64100, 92300, 20712, 10102, 21313, 93117, 114, 117, 14297, 143, 24112, 10426, 72480, 29552, 32297, 29530, 20712, 10102, 10316, 20777, 49487, 17391, 10154, 14855, 19957, 119, 102, 0, 0, 0, 0, 0, 0, 0, 0, 0, 0, 0, 0, 0, 0, 0, 0, 0, 0, 0, 0, 0, 0, 0, 0, 0, 0, 0, 0, 0, 0, 0, 0, 0, 0, 0, 0, 0, 0, 0, 0, 0, 0, 0, 0, 0, 0, 0, 0, 0, 0, 0, 0, 0, 0, 0, 0, 0, 0, 0, 0, 0, 0, 0, 0, 0, 0, 0, 0, 0, 0, 0, 0, 0, 0, 0, 0, 0, 0, 0, 0, 0, 0]\n",
      "\n",
      "Tokenized input text (decoded):\n",
      "['[CLS]', 'essa', 'foi', 'a', 'primeira', 'enciclopedia', 'intera', '##tiva', '(', 'e', 'tambem', 'foi', 'o', 'primeiro', 'grande', 'documento', 'multi', '##mi', '##dia', 'cone', '##ctado', 'atraves', 'de', 'links', 'internos', ')', ',', 'sendo', 'a', 'maioria', 'dos', 'artigos', 'ace', '##ssi', '##veis', 'atraves', 'de', 'um', 'mapa', 'intera', '##tivo', 'do', 'reino', 'unido', '.', '[SEP]', '[PAD]', '[PAD]', '[PAD]', '[PAD]', '[PAD]', '[PAD]', '[PAD]', '[PAD]', '[PAD]', '[PAD]', '[PAD]', '[PAD]', '[PAD]', '[PAD]', '[PAD]', '[PAD]', '[PAD]', '[PAD]', '[PAD]', '[PAD]', '[PAD]', '[PAD]', '[PAD]', '[PAD]', '[PAD]', '[PAD]', '[PAD]', '[PAD]', '[PAD]', '[PAD]', '[PAD]', '[PAD]', '[PAD]', '[PAD]', '[PAD]', '[PAD]', '[PAD]', '[PAD]', '[PAD]', '[PAD]', '[PAD]', '[PAD]', '[PAD]', '[PAD]', '[PAD]', '[PAD]', '[PAD]', '[PAD]', '[PAD]', '[PAD]', '[PAD]', '[PAD]', '[PAD]', '[PAD]', '[PAD]', '[PAD]', '[PAD]', '[PAD]', '[PAD]', '[PAD]', '[PAD]', '[PAD]', '[PAD]', '[PAD]', '[PAD]', '[PAD]', '[PAD]', '[PAD]', '[PAD]', '[PAD]', '[PAD]', '[PAD]', '[PAD]', '[PAD]', '[PAD]', '[PAD]', '[PAD]', '[PAD]', '[PAD]', '[PAD]', '[PAD]', '[PAD]']\n"
     ]
    }
   ],
   "source": [
    "display_encodings_info(\n",
    "    tokenizer=bert_tokenizer,\n",
    "    encodings=validation_encodings, \n",
    "    texts=validation_texts, \n",
    "    labels=validation_labels,\n",
    "    text_idx=1033,\n",
    ")"
   ]
  },
  {
   "cell_type": "code",
   "execution_count": 23,
   "id": "af031bea",
   "metadata": {
    "papermill": {
     "duration": 0.018023,
     "end_time": "2025-01-18T07:20:20.491250",
     "exception": false,
     "start_time": "2025-01-18T07:20:20.473227",
     "status": "completed"
    },
    "tags": []
   },
   "outputs": [
    {
     "name": "stdout",
     "output_type": "stream",
     "text": [
      "Input text:\n",
      "narcisa mi aiuteresti a piantare questi semi cosa perché dovrei farlo cosa ho tutto quello sporco sulle mie adorabili dita peggio e se mi andasse sulla faccia bene quello era il problema con narcisa.\n",
      "\n",
      "Language: Italian\n",
      "\n",
      "Tokenized input text (encoded):\n",
      "[101, 13473, 21452, 10112, 11793, 11279, 50804, 24679, 143, 46530, 10247, 16743, 15546, 18415, 17952, 60215, 31261, 12218, 10687, 18415, 10616, 17122, 15683, 29738, 10805, 20654, 95096, 39098, 77256, 14326, 55118, 11178, 16543, 147, 10128, 11793, 26946, 13077, 13266, 92250, 30984, 15683, 10420, 10145, 17483, 10173, 13473, 21452, 10112, 119, 102, 0, 0, 0, 0, 0, 0, 0, 0, 0, 0, 0, 0, 0, 0, 0, 0, 0, 0, 0, 0, 0, 0, 0, 0, 0, 0, 0, 0, 0, 0, 0, 0, 0, 0, 0, 0, 0, 0, 0, 0, 0, 0, 0, 0, 0, 0, 0, 0, 0, 0, 0, 0, 0, 0, 0, 0, 0, 0, 0, 0, 0, 0, 0, 0, 0, 0, 0, 0, 0, 0, 0, 0, 0, 0, 0, 0, 0]\n",
      "\n",
      "Tokenized input text (decoded):\n",
      "['[CLS]', 'nar', '##cis', '##a', 'mi', 'ai', '##uter', '##esti', 'a', 'pianta', '##re', 'questi', 'semi', 'cosa', 'perche', 'dov', '##rei', 'far', '##lo', 'cosa', 'ho', 'tutto', 'quello', 'spor', '##co', 'sulle', 'mie', 'ado', '##rab', '##ili', 'dita', 'pe', '##ggio', 'e', 'se', 'mi', 'anda', '##sse', 'sulla', 'faccia', 'bene', 'quello', 'era', 'il', 'problema', 'con', 'nar', '##cis', '##a', '.', '[SEP]', '[PAD]', '[PAD]', '[PAD]', '[PAD]', '[PAD]', '[PAD]', '[PAD]', '[PAD]', '[PAD]', '[PAD]', '[PAD]', '[PAD]', '[PAD]', '[PAD]', '[PAD]', '[PAD]', '[PAD]', '[PAD]', '[PAD]', '[PAD]', '[PAD]', '[PAD]', '[PAD]', '[PAD]', '[PAD]', '[PAD]', '[PAD]', '[PAD]', '[PAD]', '[PAD]', '[PAD]', '[PAD]', '[PAD]', '[PAD]', '[PAD]', '[PAD]', '[PAD]', '[PAD]', '[PAD]', '[PAD]', '[PAD]', '[PAD]', '[PAD]', '[PAD]', '[PAD]', '[PAD]', '[PAD]', '[PAD]', '[PAD]', '[PAD]', '[PAD]', '[PAD]', '[PAD]', '[PAD]', '[PAD]', '[PAD]', '[PAD]', '[PAD]', '[PAD]', '[PAD]', '[PAD]', '[PAD]', '[PAD]', '[PAD]', '[PAD]', '[PAD]', '[PAD]', '[PAD]', '[PAD]', '[PAD]', '[PAD]', '[PAD]', '[PAD]', '[PAD]', '[PAD]', '[PAD]', '[PAD]']\n"
     ]
    }
   ],
   "source": [
    "display_encodings_info(\n",
    "    tokenizer=bert_tokenizer,\n",
    "    encodings=testing_encodings, \n",
    "    texts=testing_texts, \n",
    "    labels=testing_labels,\n",
    "    text_idx=1010,\n",
    ")"
   ]
  },
  {
   "cell_type": "markdown",
   "id": "b449ec62",
   "metadata": {
    "papermill": {
     "duration": 0.010965,
     "end_time": "2025-01-18T07:20:20.513256",
     "exception": false,
     "start_time": "2025-01-18T07:20:20.502291",
     "status": "completed"
    },
    "tags": []
   },
   "source": [
    "# Creating Datasets and Dataloaders"
   ]
  },
  {
   "cell_type": "code",
   "execution_count": 24,
   "id": "3d7cff37",
   "metadata": {
    "papermill": {
     "duration": 0.018581,
     "end_time": "2025-01-18T07:20:20.542711",
     "exception": false,
     "start_time": "2025-01-18T07:20:20.524130",
     "status": "completed"
    },
    "tags": []
   },
   "outputs": [],
   "source": [
    "class LanguageDataset(Dataset):\n",
    "    \"\"\"Class for creating a custom dataset.\"\"\"\n",
    "    \n",
    "    def __init__(self, encodings, labels):\n",
    "        \"\"\"Constructor for LanguageDataset class.\"\"\"\n",
    "        self.encodings = encodings\n",
    "        self.labels = labels\n",
    "        \n",
    "    def __len__(self):\n",
    "        \"\"\"Computes the number of the dataset objects.\"\"\"\n",
    "        dataset_length = len(self.labels)\n",
    "        \n",
    "        return dataset_length\n",
    "\n",
    "    def __getitem__(self, idx):\n",
    "        \"\"\"Returns the corresponding samples for index given.\"\"\"\n",
    "        item = {key: torch.tensor(value[idx])\n",
    "                for key, value in self.encodings.items()}\n",
    "        item[\"labels\"] = torch.tensor(self.labels[idx])\n",
    "        \n",
    "        return item"
   ]
  },
  {
   "cell_type": "code",
   "execution_count": 25,
   "id": "12172863",
   "metadata": {
    "papermill": {
     "duration": 0.017802,
     "end_time": "2025-01-18T07:20:20.571397",
     "exception": false,
     "start_time": "2025-01-18T07:20:20.553595",
     "status": "completed"
    },
    "tags": []
   },
   "outputs": [],
   "source": [
    "# Initializing the training dataset\n",
    "training_dataset = LanguageDataset(\n",
    "    encodings=training_encodings, \n",
    "    labels=training_labels,\n",
    ")\n",
    "\n",
    "# Initializing the validation dataset\n",
    "validation_dataset = LanguageDataset(\n",
    "    encodings=validation_encodings, \n",
    "    labels=validation_labels,\n",
    ")\n",
    "\n",
    "# Initializing the testing dataset\n",
    "testing_dataset = LanguageDataset(\n",
    "    encodings=testing_encodings, \n",
    "    labels=testing_labels,\n",
    ")"
   ]
  },
  {
   "cell_type": "code",
   "execution_count": 26,
   "id": "292e1a02",
   "metadata": {
    "papermill": {
     "duration": 0.017878,
     "end_time": "2025-01-18T07:20:20.600600",
     "exception": false,
     "start_time": "2025-01-18T07:20:20.582722",
     "status": "completed"
    },
    "tags": []
   },
   "outputs": [],
   "source": [
    "# Creating a training Dataloader\n",
    "training_dataloader = DataLoader(\n",
    "    training_dataset, \n",
    "    batch_size=BATCH_SIZE, \n",
    "    shuffle=True,\n",
    ")\n",
    "\n",
    "# Creating a validation Dataloader\n",
    "validation_dataloader = DataLoader(\n",
    "    validation_dataset, \n",
    "    batch_size=BATCH_SIZE, \n",
    "    shuffle=False,\n",
    ")\n",
    "\n",
    "# Creating a testing Dataloader\n",
    "testing_dataloader = DataLoader(\n",
    "    testing_dataset,\n",
    "    batch_size=BATCH_SIZE, \n",
    "    shuffle=False,\n",
    ")"
   ]
  },
  {
   "cell_type": "code",
   "execution_count": 27,
   "id": "cb90dc98",
   "metadata": {
    "papermill": {
     "duration": 0.017662,
     "end_time": "2025-01-18T07:20:20.629286",
     "exception": false,
     "start_time": "2025-01-18T07:20:20.611624",
     "status": "completed"
    },
    "tags": []
   },
   "outputs": [
    {
     "name": "stdout",
     "output_type": "stream",
     "text": [
      "Training data examples: 8,269\n",
      "Number of batches: 130\n",
      "Batch size: 64\n"
     ]
    }
   ],
   "source": [
    "print(f\"Training data examples: {len(training_dataloader.dataset):,}\")\n",
    "print(f\"Number of batches: {len(training_dataloader)}\")\n",
    "print(f\"Batch size: {BATCH_SIZE}\")"
   ]
  },
  {
   "cell_type": "code",
   "execution_count": 28,
   "id": "ca6aa998",
   "metadata": {
    "papermill": {
     "duration": 0.019385,
     "end_time": "2025-01-18T07:20:20.659885",
     "exception": false,
     "start_time": "2025-01-18T07:20:20.640500",
     "status": "completed"
    },
    "tags": []
   },
   "outputs": [
    {
     "name": "stdout",
     "output_type": "stream",
     "text": [
      "Validation data examples: 1034\n",
      "Number of batches: 17\n",
      "Batch size: 64\n"
     ]
    }
   ],
   "source": [
    "print(f\"Validation data examples: {len(validation_dataloader.dataset)}\")\n",
    "print(f\"Number of batches: {len(validation_dataloader)}\")\n",
    "print(f\"Batch size: {BATCH_SIZE}\")"
   ]
  },
  {
   "cell_type": "code",
   "execution_count": 29,
   "id": "9d4893ab",
   "metadata": {
    "papermill": {
     "duration": 0.020545,
     "end_time": "2025-01-18T07:20:20.692787",
     "exception": false,
     "start_time": "2025-01-18T07:20:20.672242",
     "status": "completed"
    },
    "tags": []
   },
   "outputs": [
    {
     "name": "stdout",
     "output_type": "stream",
     "text": [
      "Testing data examples: 1,034\n",
      "Number of batches: 17\n",
      "Batch size: 64\n"
     ]
    }
   ],
   "source": [
    "print(f\"Testing data examples: {len(testing_dataloader.dataset):,}\")\n",
    "print(f\"Number of batches: {len(testing_dataloader)}\")\n",
    "print(f\"Batch size: {BATCH_SIZE}\")"
   ]
  },
  {
   "cell_type": "markdown",
   "id": "9a752cfc",
   "metadata": {
    "papermill": {
     "duration": 0.012359,
     "end_time": "2025-01-18T07:20:20.718057",
     "exception": false,
     "start_time": "2025-01-18T07:20:20.705698",
     "status": "completed"
    },
    "tags": []
   },
   "source": [
    "# Defining the BERT model"
   ]
  },
  {
   "cell_type": "code",
   "execution_count": 30,
   "id": "a37c7e74",
   "metadata": {
    "papermill": {
     "duration": 0.019727,
     "end_time": "2025-01-18T07:20:20.749820",
     "exception": false,
     "start_time": "2025-01-18T07:20:20.730093",
     "status": "completed"
    },
    "tags": []
   },
   "outputs": [
    {
     "data": {
      "text/plain": [
       "{0: 'Arabic',\n",
       " 1: 'Danish',\n",
       " 2: 'Dutch',\n",
       " 3: 'English',\n",
       " 4: 'French',\n",
       " 5: 'German',\n",
       " 6: 'Greek',\n",
       " 7: 'Hindi',\n",
       " 8: 'Italian',\n",
       " 9: 'Kannada',\n",
       " 10: 'Malayalam',\n",
       " 11: 'Portugeese',\n",
       " 12: 'Russian',\n",
       " 13: 'Spanish',\n",
       " 14: 'Sweedish',\n",
       " 15: 'Tamil',\n",
       " 16: 'Turkish'}"
      ]
     },
     "execution_count": 30,
     "metadata": {},
     "output_type": "execute_result"
    }
   ],
   "source": [
    "# Creating a mapping from predictions to label names\n",
    "id2label_mappings = dict()\n",
    "for i, name in enumerate(class_names):\n",
    "    id2label_mappings[i] = name\n",
    "id2label_mappings"
   ]
  },
  {
   "cell_type": "code",
   "execution_count": 31,
   "id": "613d0b1f",
   "metadata": {
    "papermill": {
     "duration": 26.898826,
     "end_time": "2025-01-18T07:20:47.660211",
     "exception": false,
     "start_time": "2025-01-18T07:20:20.761385",
     "status": "completed"
    },
    "tags": []
   },
   "outputs": [
    {
     "data": {
      "application/vnd.jupyter.widget-view+json": {
       "model_id": "61ca10da5d2340b589c5183f8c50b312",
       "version_major": 2,
       "version_minor": 0
      },
      "text/plain": [
       "model.safetensors:   0%|          | 0.00/672M [00:00<?, ?B/s]"
      ]
     },
     "metadata": {},
     "output_type": "display_data"
    }
   ],
   "source": [
    "# Computing the number of classes\n",
    "num_labels = len(class_names)\n",
    "\n",
    "# Instantiating the BERT model\n",
    "bert_model = AutoModelForSequenceClassification.from_pretrained(\n",
    "    MODEL_NAME, \n",
    "    num_labels=num_labels, \n",
    "    id2label=id2label_mappings,\n",
    ")\n",
    "\n",
    "# Moving the model to DEVICE (GPU/CUDA)\n",
    "bert_model.to(DEVICE)\n",
    "\n",
    "# Defining the optimization algorithm\n",
    "optimizer = torch.optim.Adam(bert_model.parameters(), lr=LEARNING_RATE)"
   ]
  },
  {
   "cell_type": "code",
   "execution_count": 32,
   "id": "1f7f1f76",
   "metadata": {
    "papermill": {
     "duration": 0.034615,
     "end_time": "2025-01-18T07:20:47.712927",
     "exception": false,
     "start_time": "2025-01-18T07:20:47.678312",
     "status": "completed"
    },
    "tags": []
   },
   "outputs": [
    {
     "data": {
      "text/plain": [
       "BertForSequenceClassification(\n",
       "  (bert): BertModel(\n",
       "    (embeddings): BertEmbeddings(\n",
       "      (word_embeddings): Embedding(105879, 768, padding_idx=0)\n",
       "      (position_embeddings): Embedding(512, 768)\n",
       "      (token_type_embeddings): Embedding(2, 768)\n",
       "      (LayerNorm): LayerNorm((768,), eps=1e-12, elementwise_affine=True)\n",
       "      (dropout): Dropout(p=0.1, inplace=False)\n",
       "    )\n",
       "    (encoder): BertEncoder(\n",
       "      (layer): ModuleList(\n",
       "        (0-11): 12 x BertLayer(\n",
       "          (attention): BertAttention(\n",
       "            (self): BertSdpaSelfAttention(\n",
       "              (query): Linear(in_features=768, out_features=768, bias=True)\n",
       "              (key): Linear(in_features=768, out_features=768, bias=True)\n",
       "              (value): Linear(in_features=768, out_features=768, bias=True)\n",
       "              (dropout): Dropout(p=0.1, inplace=False)\n",
       "            )\n",
       "            (output): BertSelfOutput(\n",
       "              (dense): Linear(in_features=768, out_features=768, bias=True)\n",
       "              (LayerNorm): LayerNorm((768,), eps=1e-12, elementwise_affine=True)\n",
       "              (dropout): Dropout(p=0.1, inplace=False)\n",
       "            )\n",
       "          )\n",
       "          (intermediate): BertIntermediate(\n",
       "            (dense): Linear(in_features=768, out_features=3072, bias=True)\n",
       "            (intermediate_act_fn): GELUActivation()\n",
       "          )\n",
       "          (output): BertOutput(\n",
       "            (dense): Linear(in_features=3072, out_features=768, bias=True)\n",
       "            (LayerNorm): LayerNorm((768,), eps=1e-12, elementwise_affine=True)\n",
       "            (dropout): Dropout(p=0.1, inplace=False)\n",
       "          )\n",
       "        )\n",
       "      )\n",
       "    )\n",
       "    (pooler): BertPooler(\n",
       "      (dense): Linear(in_features=768, out_features=768, bias=True)\n",
       "      (activation): Tanh()\n",
       "    )\n",
       "  )\n",
       "  (dropout): Dropout(p=0.1, inplace=False)\n",
       "  (classifier): Linear(in_features=768, out_features=17, bias=True)\n",
       ")"
      ]
     },
     "execution_count": 32,
     "metadata": {},
     "output_type": "execute_result"
    }
   ],
   "source": [
    "bert_model.eval()"
   ]
  },
  {
   "cell_type": "markdown",
   "id": "60d35f68",
   "metadata": {
    "papermill": {
     "duration": 0.017598,
     "end_time": "2025-01-18T07:20:47.748921",
     "exception": false,
     "start_time": "2025-01-18T07:20:47.731323",
     "status": "completed"
    },
    "tags": []
   },
   "source": [
    "# Computing accuracy"
   ]
  },
  {
   "cell_type": "code",
   "execution_count": 33,
   "id": "885b1dd1",
   "metadata": {
    "papermill": {
     "duration": 0.02993,
     "end_time": "2025-01-18T07:20:47.795939",
     "exception": false,
     "start_time": "2025-01-18T07:20:47.766009",
     "status": "completed"
    },
    "tags": []
   },
   "outputs": [],
   "source": [
    "def acc_score(model, dataloader, device=DEVICE):\n",
    "    \"\"\"Computes the accuracy score for a DataLoader.\"\"\"\n",
    "    # Preallocating counter variables\n",
    "    correct_predictions, num_examples = 0, 0\n",
    "    \n",
    "    # Turning off computing gradients\n",
    "    with torch.no_grad():\n",
    "        \n",
    "        # Iteratively computing accuracy score (batch by batch)\n",
    "        for batch_idx, batch in enumerate(dataloader):\n",
    "            \n",
    "            # Selecting the batch data (encodings, attention mask, labels)\n",
    "            input_ids = batch[\"input_ids\"].to(device)\n",
    "            attention_mask = batch[\"attention_mask\"].to(device)\n",
    "            labels = batch[\"labels\"].to(device)\n",
    "            \n",
    "            # Using BERT to compute logits\n",
    "            outputs = model(input_ids, attention_mask=attention_mask)\n",
    "            logits = outputs[\"logits\"]\n",
    "            \n",
    "            # Computing the predictions for labels\n",
    "            predicted_labels = torch.argmax(logits, dim=1)\n",
    "            \n",
    "            # Computing the number of examples/correct predictions number\n",
    "            num_examples += labels.size(0)\n",
    "            correct_predictions += (predicted_labels == labels).sum()\n",
    "    \n",
    "    # Computing the final accuracy score\n",
    "    accuracy_score = correct_predictions.float() / num_examples\n",
    "        \n",
    "    return accuracy_score"
   ]
  },
  {
   "cell_type": "markdown",
   "id": "5aa3e184",
   "metadata": {
    "papermill": {
     "duration": 0.01739,
     "end_time": "2025-01-18T07:20:47.831738",
     "exception": false,
     "start_time": "2025-01-18T07:20:47.814348",
     "status": "completed"
    },
    "tags": []
   },
   "source": [
    "# Fine-tuning loop"
   ]
  },
  {
   "cell_type": "code",
   "execution_count": 36,
   "id": "d2978f88",
   "metadata": {
    "papermill": {
     "duration": 0.028965,
     "end_time": "2025-01-18T07:20:47.879366",
     "exception": false,
     "start_time": "2025-01-18T07:20:47.850401",
     "status": "completed"
    },
    "tags": []
   },
   "outputs": [],
   "source": [
    "def train_bert_model(\n",
    "    model, \n",
    "    optimizer, \n",
    "    training_dataloader, \n",
    "    validation_dataloader,\n",
    "    accuracy_score_func=acc_score,\n",
    "    epochs=2,\n",
    "    batch_log_freq=100,\n",
    "    device=DEVICE\n",
    "):\n",
    "    \"\"\"Launches the fine-tuning of BERT.\"\"\"\n",
    "    # Starting the timer\n",
    "    start_time = time.time()\n",
    "    \n",
    "    # Going through all epochs\n",
    "    for epoch in range(epochs):\n",
    "        \n",
    "        # Setting the model in the training mode\n",
    "        model.train()\n",
    "        \n",
    "        # Going through all batches\n",
    "        for batch_idx, batch in enumerate(training_dataloader):\n",
    "        \n",
    "            # Selecting the batch\n",
    "            input_ids = batch[\"input_ids\"].to(device)\n",
    "            attention_mask = batch[\"attention_mask\"].to(device)\n",
    "            # labels = batch[\"labels\"].to(device)\n",
    "            labels = batch[\"labels\"].to(device).long()\n",
    "\n",
    "\n",
    "            # BERT forward pass\n",
    "            outputs = model(\n",
    "                input_ids, attention_mask=attention_mask, labels=labels\n",
    "            )\n",
    "            loss, logits = outputs[\"loss\"], outputs[\"logits\"]\n",
    "        \n",
    "            # BERT backward pass\n",
    "            optimizer.zero_grad()\n",
    "            loss.backward()\n",
    "            optimizer.step()\n",
    "            \n",
    "            # Logging the progress\n",
    "            if not batch_idx % batch_log_freq:\n",
    "                print (f\"Epoch {epoch+1:03d}/{epochs:03d} | \"\n",
    "                       f\"Batch {batch_idx:03d}/{len(training_dataloader):03d} | \"\n",
    "                       f\"Loss = {loss:.4f}\")\n",
    "        \n",
    "        # Setting the model in the evaluation mode\n",
    "        model.eval()\n",
    "        \n",
    "        # Disabling computing gradients\n",
    "        with torch.set_grad_enabled(False):\n",
    "            # Computing training accuracy\n",
    "            training_accuracy_score = accuracy_score_func(\n",
    "                model=model,\n",
    "                dataloader=training_dataloader,\n",
    "            )\n",
    "            # Computing validation accuracy\n",
    "            validation_accuracy_score = accuracy_score_func(\n",
    "                model=model,\n",
    "                dataloader=validation_dataloader,\n",
    "            )\n",
    "            # Logging the accuracy scores\n",
    "            print(f\"\\nTraining accuracy = \"\n",
    "                  f\"{training_accuracy_score:.4f}\"\n",
    "                  f\"\\nValid accuracy = \"\n",
    "                  f\"{validation_accuracy_score:.4f}\\n\")\n",
    "        \n",
    "        # Printing the time passed at the end of the epoch\n",
    "        time_elapsed_epoch = (time.time() - start_time) / 60\n",
    "        print(f'Time elapsed: {time_elapsed_epoch:.2f} min\\n')\n",
    "    \n",
    "    # Printing the total time spent on BERT fine-tuning\n",
    "    time_elapsed_total = (time.time() - start_time) / 60\n",
    "    print(f'\\nTotal training Time: {time_elapsed_total:.2f} min')\n",
    "    \n",
    "    return model"
   ]
  },
  {
   "cell_type": "code",
   "execution_count": 37,
   "id": "592b6aa6",
   "metadata": {
    "papermill": {
     "duration": 234.454794,
     "end_time": "2025-01-18T07:24:42.352380",
     "exception": false,
     "start_time": "2025-01-18T07:20:47.897586",
     "status": "completed"
    },
    "tags": []
   },
   "outputs": [
    {
     "name": "stdout",
     "output_type": "stream",
     "text": [
      "Epoch 001/001 | Batch 000/130 | Loss = 2.8938\n",
      "Epoch 001/001 | Batch 010/130 | Loss = 2.2091\n",
      "Epoch 001/001 | Batch 020/130 | Loss = 0.8913\n",
      "Epoch 001/001 | Batch 030/130 | Loss = 0.4911\n",
      "Epoch 001/001 | Batch 040/130 | Loss = 0.2338\n",
      "Epoch 001/001 | Batch 050/130 | Loss = 0.2763\n",
      "Epoch 001/001 | Batch 060/130 | Loss = 0.1795\n",
      "Epoch 001/001 | Batch 070/130 | Loss = 0.2087\n",
      "Epoch 001/001 | Batch 080/130 | Loss = 0.1865\n",
      "Epoch 001/001 | Batch 090/130 | Loss = 0.0626\n",
      "Epoch 001/001 | Batch 100/130 | Loss = 0.2431\n",
      "Epoch 001/001 | Batch 110/130 | Loss = 0.1983\n",
      "Epoch 001/001 | Batch 120/130 | Loss = 0.1497\n",
      "\n",
      "Training accuracy = 0.9925\n",
      "Valid accuracy = 0.9932\n",
      "\n",
      "Time elapsed: 176.61 min\n",
      "\n",
      "\n",
      "Total training Time: 176.61 min\n"
     ]
    }
   ],
   "source": [
    "# Training the BERT model\n",
    "bert_model = train_bert_model(\n",
    "    model=bert_model,\n",
    "    optimizer=optimizer,\n",
    "    training_dataloader=training_dataloader,\n",
    "    validation_dataloader=validation_dataloader,\n",
    "    epochs=NUM_EPOCHS,\n",
    "    batch_log_freq=10,\n",
    ")"
   ]
  },
  {
   "cell_type": "code",
   "execution_count": 41,
   "id": "8246dc86",
   "metadata": {
    "papermill": {
     "duration": 0.025929,
     "end_time": "2025-01-18T07:24:42.397133",
     "exception": false,
     "start_time": "2025-01-18T07:24:42.371204",
     "status": "completed"
    },
    "tags": []
   },
   "outputs": [],
   "source": [
    "def evaluate_test(model, dataloader, device=DEVICE):\n",
    "    \"\"\"Predicts the labels for the DataLoader.\"\"\"\n",
    "    # Setting up counter variables\n",
    "    correct_preds, num_examples = 0, 0\n",
    "    # Preallocating the list for test predictions\n",
    "    test_predictions = []\n",
    "    \n",
    "    # Disabling computing gradients\n",
    "    with torch.no_grad():\n",
    "        \n",
    "        # Iterating through all batches\n",
    "        for batch_idx, batch in enumerate(dataloader):\n",
    "            \n",
    "            # Selecting the batch\n",
    "            input_ids = batch[\"input_ids\"].to(device)\n",
    "            attention_mask = batch[\"attention_mask\"].to(device)\n",
    "            labels = batch[\"labels\"].to(device)\n",
    "            \n",
    "            # Computing logits\n",
    "            outputs = model(input_ids, attention_mask=attention_mask)\n",
    "            logits = outputs[\"logits\"]\n",
    "            \n",
    "            # Computing the predictions for labels\n",
    "            predicted_labels_batch = torch.argmax(logits, dim=1)\n",
    "            \n",
    "            # Adding the batch predictions to the list\n",
    "            test_predictions.append(predicted_labels_batch)\n",
    "            \n",
    "            # Iteratively computing accuracy determinants\n",
    "            num_examples += labels.size(0)\n",
    "            correct_preds += (predicted_labels_batch == labels).sum().cpu()\n",
    "    \n",
    "    # Computing final accuracy score\n",
    "    test_accuracy_score = correct_preds.float() / num_examples\n",
    "\n",
    "    # Transforming a list of tensors into one tensor\n",
    "    test_predictions_tensor = torch.cat(test_predictions).cpu()\n",
    "            \n",
    "    return test_accuracy_score, test_predictions_tensor"
   ]
  },
  {
   "cell_type": "code",
   "execution_count": 42,
   "id": "3537497e",
   "metadata": {
    "papermill": {
     "duration": 8.011218,
     "end_time": "2025-01-18T07:24:50.422070",
     "exception": false,
     "start_time": "2025-01-18T07:24:42.410852",
     "status": "completed"
    },
    "tags": []
   },
   "outputs": [
    {
     "name": "stdout",
     "output_type": "stream",
     "text": [
      "Test accuracy: 0.9894\n"
     ]
    }
   ],
   "source": [
    "# Computing test accuracy and test predictions\n",
    "accuracy_test, predictions_test = evaluate_test(\n",
    "    model=bert_model, dataloader=testing_dataloader\n",
    ")\n",
    "\n",
    "print(f\"Test accuracy: {accuracy_test:.4f}\")"
   ]
  },
  {
   "cell_type": "markdown",
   "id": "75941237",
   "metadata": {
    "papermill": {
     "duration": 0.012794,
     "end_time": "2025-01-18T07:24:50.448420",
     "exception": false,
     "start_time": "2025-01-18T07:24:50.435626",
     "status": "completed"
    },
    "tags": []
   },
   "source": [
    "# Testing the fine-tuned model on new data"
   ]
  },
  {
   "cell_type": "code",
   "execution_count": 44,
   "id": "1721ff23",
   "metadata": {
    "papermill": {
     "duration": 0.024737,
     "end_time": "2025-01-18T07:24:50.486043",
     "exception": false,
     "start_time": "2025-01-18T07:24:50.461306",
     "status": "completed"
    },
    "tags": []
   },
   "outputs": [],
   "source": [
    "# Defining the Transformers pipeline\n",
    "bert_pipeline = pipeline(\n",
    "    task=\"text-classification\",\n",
    "    model=bert_model,\n",
    "    tokenizer=bert_tokenizer,\n",
    "    device=DEVICE,\n",
    ")"
   ]
  },
  {
   "cell_type": "markdown",
   "id": "9820b5cf",
   "metadata": {
    "papermill": {
     "duration": 0.012468,
     "end_time": "2025-01-18T07:24:50.511748",
     "exception": false,
     "start_time": "2025-01-18T07:24:50.499280",
     "status": "completed"
    },
    "tags": []
   },
   "source": [
    "## Predicting one text"
   ]
  },
  {
   "cell_type": "code",
   "execution_count": 45,
   "id": "e324edd9",
   "metadata": {
    "papermill": {
     "duration": 0.020224,
     "end_time": "2025-01-18T07:24:50.544562",
     "exception": false,
     "start_time": "2025-01-18T07:24:50.524338",
     "status": "completed"
    },
    "tags": []
   },
   "outputs": [],
   "source": [
    "def define_lang_one_text(pipeline, test_text):\n",
    "    \"\"\"Outputs the language prediction for a sample text.\"\"\"\n",
    "    # Applying the pipeline to make predictions\n",
    "    one_text_results = pipeline(test_text)[0]\n",
    "    # Retrieving the probability\n",
    "    proba = one_text_results[\"score\"]\n",
    "    # Retrieving the predicted label (encoded)\n",
    "    predicted_lang = one_text_results[\"label\"]\n",
    "    # Displaying the prediction\n",
    "    print(f\"Predicted language: {predicted_lang} ({proba:.2%} probability)\")"
   ]
  },
  {
   "cell_type": "code",
   "execution_count": 46,
   "id": "71a7ceaa",
   "metadata": {
    "papermill": {
     "duration": 0.04535,
     "end_time": "2025-01-18T07:24:50.603316",
     "exception": false,
     "start_time": "2025-01-18T07:24:50.557966",
     "status": "completed"
    },
    "tags": []
   },
   "outputs": [
    {
     "name": "stdout",
     "output_type": "stream",
     "text": [
      "Input text: It is interesting how we all turned out to be in the same place.\n",
      "\n",
      "Predicted language: English (98.41% probability)\n"
     ]
    }
   ],
   "source": [
    "# Creating a test text (English)\n",
    "test_text = \"It is interesting how we all turned out to be in the same place.\"\n",
    "print(f\"Input text: {test_text}\\n\")\n",
    "\n",
    "define_lang_one_text(pipeline=bert_pipeline, test_text=test_text)"
   ]
  },
  {
   "cell_type": "code",
   "execution_count": 47,
   "id": "806f3b71",
   "metadata": {
    "papermill": {
     "duration": 0.033589,
     "end_time": "2025-01-18T07:24:50.651419",
     "exception": false,
     "start_time": "2025-01-18T07:24:50.617830",
     "status": "completed"
    },
    "tags": []
   },
   "outputs": [
    {
     "name": "stdout",
     "output_type": "stream",
     "text": [
      "Input text: Ik kan het zien. Dankuwel!\n",
      "\n",
      "Predicted language: Dutch (95.74% probability)\n"
     ]
    }
   ],
   "source": [
    "# Creating a test text (Dutch)\n",
    "test_text = \"Ik kan het zien. Dankuwel!\"\n",
    "print(f\"Input text: {test_text}\\n\")\n",
    "\n",
    "define_lang_one_text(pipeline=bert_pipeline, test_text=test_text)"
   ]
  },
  {
   "cell_type": "code",
   "execution_count": 48,
   "id": "09f4130e",
   "metadata": {
    "papermill": {
     "duration": 0.032686,
     "end_time": "2025-01-18T07:24:50.697402",
     "exception": false,
     "start_time": "2025-01-18T07:24:50.664716",
     "status": "completed"
    },
    "tags": []
   },
   "outputs": [
    {
     "name": "stdout",
     "output_type": "stream",
     "text": [
      "Input text: Si yo fuera Maradona viviría como él\n",
      "\n",
      "Predicted language: Spanish (94.16% probability)\n"
     ]
    }
   ],
   "source": [
    "# Creating a test text (Spanish)\n",
    "test_text = \"Si yo fuera Maradona viviría como él\"\n",
    "print(f\"Input text: {test_text}\\n\")\n",
    "\n",
    "define_lang_one_text(pipeline=bert_pipeline, test_text=test_text)"
   ]
  },
  {
   "cell_type": "code",
   "execution_count": 49,
   "id": "e973dc11",
   "metadata": {
    "papermill": {
     "duration": 0.031486,
     "end_time": "2025-01-18T07:24:50.742289",
     "exception": false,
     "start_time": "2025-01-18T07:24:50.710803",
     "status": "completed"
    },
    "tags": []
   },
   "outputs": [
    {
     "name": "stdout",
     "output_type": "stream",
     "text": [
      "Input text: Ich habe keine zeit. Auf Wiedersehen!\n",
      "\n",
      "Predicted language: German (96.54% probability)\n"
     ]
    }
   ],
   "source": [
    "# Creating a test text (German)\n",
    "test_text = \"Ich habe keine zeit. Auf Wiedersehen!\"\n",
    "print(f\"Input text: {test_text}\\n\")\n",
    "\n",
    "define_lang_one_text(pipeline=bert_pipeline, test_text=test_text)"
   ]
  },
  {
   "cell_type": "code",
   "execution_count": 50,
   "id": "0cc2e6f5",
   "metadata": {
    "papermill": {
     "duration": 0.035179,
     "end_time": "2025-01-18T07:24:50.790972",
     "exception": false,
     "start_time": "2025-01-18T07:24:50.755793",
     "status": "completed"
    },
    "tags": []
   },
   "outputs": [
    {
     "name": "stdout",
     "output_type": "stream",
     "text": [
      "Input text: Что бы я делал без тебя, я не знаю\n",
      "\n",
      "Predicted language: Russian (97.22% probability)\n"
     ]
    }
   ],
   "source": [
    "# Creating a test text (Russian)\n",
    "test_text = \"Что бы я делал без тебя, я не знаю\"\n",
    "print(f\"Input text: {test_text}\\n\")\n",
    "\n",
    "define_lang_one_text(pipeline=bert_pipeline, test_text=test_text)"
   ]
  },
  {
   "cell_type": "code",
   "execution_count": 51,
   "id": "3b0897de",
   "metadata": {
    "papermill": {
     "duration": 0.033182,
     "end_time": "2025-01-18T07:24:50.837768",
     "exception": false,
     "start_time": "2025-01-18T07:24:50.804586",
     "status": "completed"
    },
    "tags": []
   },
   "outputs": [
    {
     "name": "stdout",
     "output_type": "stream",
     "text": [
      "Input text: Ursäkta mig! Hej då!\n",
      "\n",
      "Predicted language: Sweedish (94.87% probability)\n"
     ]
    }
   ],
   "source": [
    "# Creating a test text (Swedish)\n",
    "test_text = \"Ursäkta mig! Hej då!\"\n",
    "print(f\"Input text: {test_text}\\n\")\n",
    "\n",
    "define_lang_one_text(pipeline=bert_pipeline, test_text=test_text)"
   ]
  },
  {
   "cell_type": "code",
   "execution_count": 52,
   "id": "a4f659a9",
   "metadata": {
    "papermill": {
     "duration": 0.033869,
     "end_time": "2025-01-18T07:24:50.885737",
     "exception": false,
     "start_time": "2025-01-18T07:24:50.851868",
     "status": "completed"
    },
    "tags": []
   },
   "outputs": [
    {
     "name": "stdout",
     "output_type": "stream",
     "text": [
      "Input text: Como chego à estação de trem? Como chego ao ponto de ônibus?\n",
      "\n",
      "Predicted language: Portugeese (97.24% probability)\n"
     ]
    }
   ],
   "source": [
    "# Creating a test text (Portuguese)\n",
    "test_text = \"Como chego à estação de trem? Como chego ao ponto de ônibus?\"\n",
    "print(f\"Input text: {test_text}\\n\")\n",
    "\n",
    "define_lang_one_text(pipeline=bert_pipeline, test_text=test_text)"
   ]
  },
  {
   "cell_type": "markdown",
   "id": "a16a0e8c",
   "metadata": {
    "papermill": {
     "duration": 0.014029,
     "end_time": "2025-01-18T07:24:50.913478",
     "exception": false,
     "start_time": "2025-01-18T07:24:50.899449",
     "status": "completed"
    },
    "tags": []
   },
   "source": [
    "## Predicting an array of texts"
   ]
  },
  {
   "cell_type": "code",
   "execution_count": 53,
   "id": "1eab568b",
   "metadata": {
    "papermill": {
     "duration": 0.155097,
     "end_time": "2025-01-18T07:24:51.083595",
     "exception": false,
     "start_time": "2025-01-18T07:24:50.928498",
     "status": "completed"
    },
    "tags": []
   },
   "outputs": [
    {
     "data": {
      "text/html": [
       "<div>\n",
       "<style scoped>\n",
       "    .dataframe tbody tr th:only-of-type {\n",
       "        vertical-align: middle;\n",
       "    }\n",
       "\n",
       "    .dataframe tbody tr th {\n",
       "        vertical-align: top;\n",
       "    }\n",
       "\n",
       "    .dataframe thead th {\n",
       "        text-align: right;\n",
       "    }\n",
       "</style>\n",
       "<table border=\"1\" class=\"dataframe\">\n",
       "  <thead>\n",
       "    <tr style=\"text-align: right;\">\n",
       "      <th></th>\n",
       "      <th>test_text</th>\n",
       "      <th>predicted_lang</th>\n",
       "      <th>score</th>\n",
       "    </tr>\n",
       "  </thead>\n",
       "  <tbody>\n",
       "    <tr>\n",
       "      <th>0</th>\n",
       "      <td>It is impossible to do without a dictionary.</td>\n",
       "      <td>English</td>\n",
       "      <td>0.984603</td>\n",
       "    </tr>\n",
       "    <tr>\n",
       "      <th>1</th>\n",
       "      <td>Из любой ситуации всегда есть выход. Нужно лиш...</td>\n",
       "      <td>Russian</td>\n",
       "      <td>0.971683</td>\n",
       "    </tr>\n",
       "    <tr>\n",
       "      <th>2</th>\n",
       "      <td>Eu gostaria de reservar um quarto, por favor</td>\n",
       "      <td>Portugeese</td>\n",
       "      <td>0.973573</td>\n",
       "    </tr>\n",
       "    <tr>\n",
       "      <th>3</th>\n",
       "      <td>Hooplijk schrift zij niets negatiefs in haar r...</td>\n",
       "      <td>Dutch</td>\n",
       "      <td>0.959644</td>\n",
       "    </tr>\n",
       "    <tr>\n",
       "      <th>4</th>\n",
       "      <td>Hvor er der en pengeautomat?</td>\n",
       "      <td>Danish</td>\n",
       "      <td>0.940401</td>\n",
       "    </tr>\n",
       "    <tr>\n",
       "      <th>5</th>\n",
       "      <td>Καλά, ευχαριστώ, Χάρηκα</td>\n",
       "      <td>Greek</td>\n",
       "      <td>0.954776</td>\n",
       "    </tr>\n",
       "    <tr>\n",
       "      <th>6</th>\n",
       "      <td>Tünaydın!</td>\n",
       "      <td>Turkish</td>\n",
       "      <td>0.965171</td>\n",
       "    </tr>\n",
       "    <tr>\n",
       "      <th>7</th>\n",
       "      <td>Weisst was ich meine?</td>\n",
       "      <td>German</td>\n",
       "      <td>0.965785</td>\n",
       "    </tr>\n",
       "    <tr>\n",
       "      <th>8</th>\n",
       "      <td>Interesting! I will look it up!</td>\n",
       "      <td>English</td>\n",
       "      <td>0.982657</td>\n",
       "    </tr>\n",
       "  </tbody>\n",
       "</table>\n",
       "</div>"
      ],
      "text/plain": [
       "                                           test_text predicted_lang     score\n",
       "0       It is impossible to do without a dictionary.        English  0.984603\n",
       "1  Из любой ситуации всегда есть выход. Нужно лиш...        Russian  0.971683\n",
       "2       Eu gostaria de reservar um quarto, por favor     Portugeese  0.973573\n",
       "3  Hooplijk schrift zij niets negatiefs in haar r...          Dutch  0.959644\n",
       "4                       Hvor er der en pengeautomat?         Danish  0.940401\n",
       "5                            Καλά, ευχαριστώ, Χάρηκα          Greek  0.954776\n",
       "6                                          Tünaydın!        Turkish  0.965171\n",
       "7                              Weisst was ich meine?         German  0.965785\n",
       "8                    Interesting! I will look it up!        English  0.982657"
      ]
     },
     "execution_count": 53,
     "metadata": {},
     "output_type": "execute_result"
    }
   ],
   "source": [
    "# Creating sample texts for classification\n",
    "test_texts = [\n",
    "    \"It is impossible to do without a dictionary.\",\n",
    "    \"Из любой ситуации всегда есть выход. Нужно лишь его увидеть!\",\n",
    "    \"Eu gostaria de reservar um quarto, por favor\",\n",
    "    \"Hooplijk schrift zij niets negatiefs in haar recensie...\",\n",
    "    \"Hvor er der en pengeautomat?\",\n",
    "    \"Καλά, ευχαριστώ, Χάρηκα\",\n",
    "    \"Tünaydın!\",\n",
    "    \"Weisst was ich meine?\",\n",
    "    \"Interesting! I will look it up!\",\n",
    "]\n",
    "\n",
    "# Applying the pipeline on all test texts\n",
    "multiple_texts_results = bert_pipeline(test_texts)\n",
    "\n",
    "# Outputting the results as DataFrame\n",
    "multiple_texts_df = pd.DataFrame(multiple_texts_results)\n",
    "multiple_texts_df[\"test_text\"] = test_texts\n",
    "multiple_texts_df[\"predicted_lang\"] = multiple_texts_df[\"label\"].copy()\n",
    "\n",
    "# Rearranging the columns\n",
    "multiple_texts_df[[\"test_text\", \"predicted_lang\", \"score\"]]"
   ]
  },
  {
   "cell_type": "markdown",
   "id": "b6553f72",
   "metadata": {
    "papermill": {
     "duration": 0.014935,
     "end_time": "2025-01-18T07:24:51.115898",
     "exception": false,
     "start_time": "2025-01-18T07:24:51.100963",
     "status": "completed"
    },
    "tags": []
   },
   "source": [
    "# Vizualizing the predictions"
   ]
  },
  {
   "cell_type": "code",
   "execution_count": 54,
   "id": "22a8a10e",
   "metadata": {
    "papermill": {
     "duration": 0.031477,
     "end_time": "2025-01-18T07:24:51.162008",
     "exception": false,
     "start_time": "2025-01-18T07:24:51.130531",
     "status": "completed"
    },
    "tags": []
   },
   "outputs": [
    {
     "name": "stdout",
     "output_type": "stream",
     "text": [
      "              precision    recall  f1-score   support\n",
      "\n",
      "      Arabic       0.98      1.00      0.99        53\n",
      "      Danish       0.98      1.00      0.99        43\n",
      "       Dutch       1.00      0.96      0.98        55\n",
      "     English       1.00      1.00      1.00       139\n",
      "      French       0.99      0.99      0.99       101\n",
      "      German       1.00      1.00      1.00        47\n",
      "       Greek       1.00      1.00      1.00        36\n",
      "       Hindi       0.86      1.00      0.92         6\n",
      "     Italian       1.00      0.99      0.99        70\n",
      "     Kannada       1.00      1.00      1.00        37\n",
      "   Malayalam       1.00      1.00      1.00        60\n",
      "  Portugeese       1.00      0.93      0.97        74\n",
      "     Russian       1.00      0.99      0.99        69\n",
      "     Spanish       0.92      1.00      0.96        82\n",
      "    Sweedish       1.00      0.99      0.99        68\n",
      "       Tamil       1.00      1.00      1.00        47\n",
      "     Turkish       1.00      1.00      1.00        47\n",
      "\n",
      "    accuracy                           0.99      1034\n",
      "   macro avg       0.98      0.99      0.99      1034\n",
      "weighted avg       0.99      0.99      0.99      1034\n",
      "\n"
     ]
    }
   ],
   "source": [
    "print(classification_report(\n",
    "    y_true=testing_labels, \n",
    "    y_pred=predictions_test, \n",
    "    target_names=class_names,\n",
    ")\n",
    "     )"
   ]
  },
  {
   "cell_type": "code",
   "execution_count": 55,
   "id": "0e5d3f5c",
   "metadata": {
    "papermill": {
     "duration": 0.798223,
     "end_time": "2025-01-18T07:24:51.974441",
     "exception": false,
     "start_time": "2025-01-18T07:24:51.176218",
     "status": "completed"
    },
    "tags": []
   },
   "outputs": [
    {
     "data": {
      "image/png": "[encoded data removed]",
      "text/plain": [
       "<Figure size 640x480 with 2 Axes>"
      ]
     },
     "metadata": {},
     "output_type": "display_data"
    }
   ],
   "source": [
    "ConfusionMatrixDisplay.from_predictions(\n",
    "    testing_labels, \n",
    "    predictions_test,\n",
    "    display_labels=class_names,\n",
    "    cmap=\"Blues\",\n",
    ")\n",
    "plt.xticks(rotation=90)\n",
    "plt.xlabel(\"Predicted language\")\n",
    "plt.ylabel(\"True language\")\n",
    "plt.title(\"Language recognition confusion matrix\", fontsize=15)\n",
    "plt.tight_layout()\n",
    "plt.show()"
   ]
  },
  {
   "cell_type": "code",
   "execution_count": null,
   "id": "d8725b31-ab1f-4b84-a466-091ef0e117aa",
   "metadata": {},
   "outputs": [],
   "source": []
  }
 ],
 "metadata": {
  "kaggle": {
   "accelerator": "nvidiaTeslaT4",
   "dataSources": [
    {
     "datasetId": 1150837,
     "sourceId": 1929264,
     "sourceType": "datasetVersion"
    }
   ],
   "dockerImageVersionId": 30579,
   "isGpuEnabled": true,
   "isInternetEnabled": true,
   "language": "python",
   "sourceType": "notebook"
  },
  "kernelspec": {
   "display_name": "Python 3 (ipykernel)",
   "language": "python",
   "name": "python3"
  },
  "language_info": {
   "codemirror_mode": {
    "name": "ipython",
    "version": 3
   },
   "file_extension": ".py",
   "mimetype": "text/x-python",
   "name": "python",
   "nbconvert_exporter": "python",
   "pygments_lexer": "ipython3",
   "version": "3.10.11"
  },
  "papermill": {
   "default_parameters": {},
   "duration": 305.506259,
   "end_time": "2025-01-18T07:24:55.225927",
   "environment_variables": {},
   "exception": null,
   "input_path": "__notebook__.ipynb",
   "output_path": "__notebook__.ipynb",
   "parameters": {},
   "start_time": "2025-01-18T07:19:49.719668",
   "version": "2.4.0"
  },
  "widgets": {
   "application/vnd.jupyter.widget-state+json": {
    "state": {
     "09f95d5b9dd34c4faac9c8fac8eff990": {
      "model_module": "@jupyter-widgets/controls",
      "model_module_version": "1.5.0",
      "model_name": "DescriptionStyleModel",
      "state": {
       "_model_module": "@jupyter-widgets/controls",
       "_model_module_version": "1.5.0",
       "_model_name": "DescriptionStyleModel",
       "_view_count": null,
       "_view_module": "@jupyter-widgets/base",
       "_view_module_version": "1.2.0",
       "_view_name": "StyleView",
       "description_width": ""
      }
     },
     "0a8d5b1a9d2d49f48d3b4a7b890697d7": {
      "model_module": "@jupyter-widgets/controls",
      "model_module_version": "1.5.0",
      "model_name": "DescriptionStyleModel",
      "state": {
       "_model_module": "@jupyter-widgets/controls",
       "_model_module_version": "1.5.0",
       "_model_name": "DescriptionStyleModel",
       "_view_count": null,
       "_view_module": "@jupyter-widgets/base",
       "_view_module_version": "1.2.0",
       "_view_name": "StyleView",
       "description_width": ""
      }
     },
     "1f14aedf2d6441428367e919974fe4ab": {
      "model_module": "@jupyter-widgets/controls",
      "model_module_version": "1.5.0",
      "model_name": "FloatProgressModel",
      "state": {
       "_dom_classes": [],
       "_model_module": "@jupyter-widgets/controls",
       "_model_module_version": "1.5.0",
       "_model_name": "FloatProgressModel",
       "_view_count": null,
       "_view_module": "@jupyter-widgets/controls",
       "_view_module_version": "1.5.0",
       "_view_name": "ProgressView",
       "bar_style": "success",
       "description": "",
       "description_tooltip": null,
       "layout": "IPY_MODEL_7c80478d5d004a51b8694886fefd9183",
       "max": 1715180,
       "min": 0,
       "orientation": "horizontal",
       "style": "IPY_MODEL_91bd1bbddadd49fd9fbe5d91521c7342",
       "value": 1715180
      }
     },
     "27f2098618d94d24b817ae81d45e9040": {
      "model_module": "@jupyter-widgets/controls",
      "model_module_version": "1.5.0",
      "model_name": "HTMLModel",
      "state": {
       "_dom_classes": [],
       "_model_module": "@jupyter-widgets/controls",
       "_model_module_version": "1.5.0",
       "_model_name": "HTMLModel",
       "_view_count": null,
       "_view_module": "@jupyter-widgets/controls",
       "_view_module_version": "1.5.0",
       "_view_name": "HTMLView",
       "description": "",
       "description_tooltip": null,
       "layout": "IPY_MODEL_75a66f2863be4599a817356a8614270b",
       "placeholder": "​",
       "style": "IPY_MODEL_09f95d5b9dd34c4faac9c8fac8eff990",
       "value": " 625/625 [00:00&lt;00:00, 59.6kB/s]"
      }
     },
     "2811cd1ae466489c97edeef795dd3d2e": {
      "model_module": "@jupyter-widgets/base",
      "model_module_version": "1.2.0",
      "model_name": "LayoutModel",
      "state": {
       "_model_module": "@jupyter-widgets/base",
       "_model_module_version": "1.2.0",
       "_model_name": "LayoutModel",
       "_view_count": null,
       "_view_module": "@jupyter-widgets/base",
       "_view_module_version": "1.2.0",
       "_view_name": "LayoutView",
       "align_content": null,
       "align_items": null,
       "align_self": null,
       "border": null,
       "bottom": null,
       "display": null,
       "flex": null,
       "flex_flow": null,
       "grid_area": null,
       "grid_auto_columns": null,
       "grid_auto_flow": null,
       "grid_auto_rows": null,
       "grid_column": null,
       "grid_gap": null,
       "grid_row": null,
       "grid_template_areas": null,
       "grid_template_columns": null,
       "grid_template_rows": null,
       "height": null,
       "justify_content": null,
       "justify_items": null,
       "left": null,
       "margin": null,
       "max_height": null,
       "max_width": null,
       "min_height": null,
       "min_width": null,
       "object_fit": null,
       "object_position": null,
       "order": null,
       "overflow": null,
       "overflow_x": null,
       "overflow_y": null,
       "padding": null,
       "right": null,
       "top": null,
       "visibility": null,
       "width": null
      }
     },
     "2c7f12b8ed304bedbb4c5a62544e2554": {
      "model_module": "@jupyter-widgets/base",
      "model_module_version": "1.2.0",
      "model_name": "LayoutModel",
      "state": {
       "_model_module": "@jupyter-widgets/base",
       "_model_module_version": "1.2.0",
       "_model_name": "LayoutModel",
       "_view_count": null,
       "_view_module": "@jupyter-widgets/base",
       "_view_module_version": "1.2.0",
       "_view_name": "LayoutView",
       "align_content": null,
       "align_items": null,
       "align_self": null,
       "border": null,
       "bottom": null,
       "display": null,
       "flex": null,
       "flex_flow": null,
       "grid_area": null,
       "grid_auto_columns": null,
       "grid_auto_flow": null,
       "grid_auto_rows": null,
       "grid_column": null,
       "grid_gap": null,
       "grid_row": null,
       "grid_template_areas": null,
       "grid_template_columns": null,
       "grid_template_rows": null,
       "height": null,
       "justify_content": null,
       "justify_items": null,
       "left": null,
       "margin": null,
       "max_height": null,
       "max_width": null,
       "min_height": null,
       "min_width": null,
       "object_fit": null,
       "object_position": null,
       "order": null,
       "overflow": null,
       "overflow_x": null,
       "overflow_y": null,
       "padding": null,
       "right": null,
       "top": null,
       "visibility": null,
       "width": null
      }
     },
     "3d021dc6fd3443b19461139f264e3328": {
      "model_module": "@jupyter-widgets/base",
      "model_module_version": "1.2.0",
      "model_name": "LayoutModel",
      "state": {
       "_model_module": "@jupyter-widgets/base",
       "_model_module_version": "1.2.0",
       "_model_name": "LayoutModel",
       "_view_count": null,
       "_view_module": "@jupyter-widgets/base",
       "_view_module_version": "1.2.0",
       "_view_name": "LayoutView",
       "align_content": null,
       "align_items": null,
       "align_self": null,
       "border": null,
       "bottom": null,
       "display": null,
       "flex": null,
       "flex_flow": null,
       "grid_area": null,
       "grid_auto_columns": null,
       "grid_auto_flow": null,
       "grid_auto_rows": null,
       "grid_column": null,
       "grid_gap": null,
       "grid_row": null,
       "grid_template_areas": null,
       "grid_template_columns": null,
       "grid_template_rows": null,
       "height": null,
       "justify_content": null,
       "justify_items": null,
       "left": null,
       "margin": null,
       "max_height": null,
       "max_width": null,
       "min_height": null,
       "min_width": null,
       "object_fit": null,
       "object_position": null,
       "order": null,
       "overflow": null,
       "overflow_x": null,
       "overflow_y": null,
       "padding": null,
       "right": null,
       "top": null,
       "visibility": null,
       "width": null
      }
     },
     "3f7de40a018e4fbcbc23e18585fe95d8": {
      "model_module": "@jupyter-widgets/controls",
      "model_module_version": "1.5.0",
      "model_name": "DescriptionStyleModel",
      "state": {
       "_model_module": "@jupyter-widgets/controls",
       "_model_module_version": "1.5.0",
       "_model_name": "DescriptionStyleModel",
       "_view_count": null,
       "_view_module": "@jupyter-widgets/base",
       "_view_module_version": "1.2.0",
       "_view_name": "StyleView",
       "description_width": ""
      }
     },
     "43a0acfca85f4ca59613790e6fb68e9b": {
      "model_module": "@jupyter-widgets/controls",
      "model_module_version": "1.5.0",
      "model_name": "HTMLModel",
      "state": {
       "_dom_classes": [],
       "_model_module": "@jupyter-widgets/controls",
       "_model_module_version": "1.5.0",
       "_model_name": "HTMLModel",
       "_view_count": null,
       "_view_module": "@jupyter-widgets/controls",
       "_view_module_version": "1.5.0",
       "_view_name": "HTMLView",
       "description": "",
       "description_tooltip": null,
       "layout": "IPY_MODEL_88c5470502bf46ed8a61f27190745c04",
       "placeholder": "​",
       "style": "IPY_MODEL_3f7de40a018e4fbcbc23e18585fe95d8",
       "value": "Downloading tokenizer_config.json: 100%"
      }
     },
     "45225ef4181d4686bb39f975db9a49c5": {
      "model_module": "@jupyter-widgets/controls",
      "model_module_version": "1.5.0",
      "model_name": "HBoxModel",
      "state": {
       "_dom_classes": [],
       "_model_module": "@jupyter-widgets/controls",
       "_model_module_version": "1.5.0",
       "_model_name": "HBoxModel",
       "_view_count": null,
       "_view_module": "@jupyter-widgets/controls",
       "_view_module_version": "1.5.0",
       "_view_name": "HBoxView",
       "box_style": "",
       "children": [
        "IPY_MODEL_c21d20c5583b441fbe6673b3becb82b7",
        "IPY_MODEL_ed74b6f84a6b46fa95e47f902a487001",
        "IPY_MODEL_da8a49b75eb348289b10d27dc65f1887"
       ],
       "layout": "IPY_MODEL_fe71c28d7ae84815a361163a29c90533"
      }
     },
     "45b559f75abb43a08ff6572681cd20d1": {
      "model_module": "@jupyter-widgets/controls",
      "model_module_version": "1.5.0",
      "model_name": "DescriptionStyleModel",
      "state": {
       "_model_module": "@jupyter-widgets/controls",
       "_model_module_version": "1.5.0",
       "_model_name": "DescriptionStyleModel",
       "_view_count": null,
       "_view_module": "@jupyter-widgets/base",
       "_view_module_version": "1.2.0",
       "_view_name": "StyleView",
       "description_width": ""
      }
     },
     "4d21687578f84e1c8bf42e2efccf016c": {
      "model_module": "@jupyter-widgets/controls",
      "model_module_version": "1.5.0",
      "model_name": "HBoxModel",
      "state": {
       "_dom_classes": [],
       "_model_module": "@jupyter-widgets/controls",
       "_model_module_version": "1.5.0",
       "_model_name": "HBoxModel",
       "_view_count": null,
       "_view_module": "@jupyter-widgets/controls",
       "_view_module_version": "1.5.0",
       "_view_name": "HBoxView",
       "box_style": "",
       "children": [
        "IPY_MODEL_43a0acfca85f4ca59613790e6fb68e9b",
        "IPY_MODEL_bd8c9b99e3034473aea228eac7afc0aa",
        "IPY_MODEL_a6f358043bac4ddebdfd5f6bc3e48f5c"
       ],
       "layout": "IPY_MODEL_adb31fa20a214fb4b14dcc03e61f989d"
      }
     },
     "568ea782e2c84011baa4f8794d381617": {
      "model_module": "@jupyter-widgets/base",
      "model_module_version": "1.2.0",
      "model_name": "LayoutModel",
      "state": {
       "_model_module": "@jupyter-widgets/base",
       "_model_module_version": "1.2.0",
       "_model_name": "LayoutModel",
       "_view_count": null,
       "_view_module": "@jupyter-widgets/base",
       "_view_module_version": "1.2.0",
       "_view_name": "LayoutView",
       "align_content": null,
       "align_items": null,
       "align_self": null,
       "border": null,
       "bottom": null,
       "display": null,
       "flex": null,
       "flex_flow": null,
       "grid_area": null,
       "grid_auto_columns": null,
       "grid_auto_flow": null,
       "grid_auto_rows": null,
       "grid_column": null,
       "grid_gap": null,
       "grid_row": null,
       "grid_template_areas": null,
       "grid_template_columns": null,
       "grid_template_rows": null,
       "height": null,
       "justify_content": null,
       "justify_items": null,
       "left": null,
       "margin": null,
       "max_height": null,
       "max_width": null,
       "min_height": null,
       "min_width": null,
       "object_fit": null,
       "object_position": null,
       "order": null,
       "overflow": null,
       "overflow_x": null,
       "overflow_y": null,
       "padding": null,
       "right": null,
       "top": null,
       "visibility": null,
       "width": null
      }
     },
     "5902b547213643cfb61a7a8a9144106c": {
      "model_module": "@jupyter-widgets/base",
      "model_module_version": "1.2.0",
      "model_name": "LayoutModel",
      "state": {
       "_model_module": "@jupyter-widgets/base",
       "_model_module_version": "1.2.0",
       "_model_name": "LayoutModel",
       "_view_count": null,
       "_view_module": "@jupyter-widgets/base",
       "_view_module_version": "1.2.0",
       "_view_name": "LayoutView",
       "align_content": null,
       "align_items": null,
       "align_self": null,
       "border": null,
       "bottom": null,
       "display": null,
       "flex": null,
       "flex_flow": null,
       "grid_area": null,
       "grid_auto_columns": null,
       "grid_auto_flow": null,
       "grid_auto_rows": null,
       "grid_column": null,
       "grid_gap": null,
       "grid_row": null,
       "grid_template_areas": null,
       "grid_template_columns": null,
       "grid_template_rows": null,
       "height": null,
       "justify_content": null,
       "justify_items": null,
       "left": null,
       "margin": null,
       "max_height": null,
       "max_width": null,
       "min_height": null,
       "min_width": null,
       "object_fit": null,
       "object_position": null,
       "order": null,
       "overflow": null,
       "overflow_x": null,
       "overflow_y": null,
       "padding": null,
       "right": null,
       "top": null,
       "visibility": null,
       "width": null
      }
     },
     "6159964319fb49538007ca390af1e6d0": {
      "model_module": "@jupyter-widgets/controls",
      "model_module_version": "1.5.0",
      "model_name": "FloatProgressModel",
      "state": {
       "_dom_classes": [],
       "_model_module": "@jupyter-widgets/controls",
       "_model_module_version": "1.5.0",
       "_model_name": "FloatProgressModel",
       "_view_count": null,
       "_view_module": "@jupyter-widgets/controls",
       "_view_module_version": "1.5.0",
       "_view_name": "ProgressView",
       "bar_style": "success",
       "description": "",
       "description_tooltip": null,
       "layout": "IPY_MODEL_b75d3e19135d484c8da131a3e9c620e1",
       "max": 672247920,
       "min": 0,
       "orientation": "horizontal",
       "style": "IPY_MODEL_88fbc51551374441a884b3fafb906e8a",
       "value": 672247920
      }
     },
     "67d098c893ab4316944071d1cd0cf430": {
      "model_module": "@jupyter-widgets/base",
      "model_module_version": "1.2.0",
      "model_name": "LayoutModel",
      "state": {
       "_model_module": "@jupyter-widgets/base",
       "_model_module_version": "1.2.0",
       "_model_name": "LayoutModel",
       "_view_count": null,
       "_view_module": "@jupyter-widgets/base",
       "_view_module_version": "1.2.0",
       "_view_name": "LayoutView",
       "align_content": null,
       "align_items": null,
       "align_self": null,
       "border": null,
       "bottom": null,
       "display": null,
       "flex": null,
       "flex_flow": null,
       "grid_area": null,
       "grid_auto_columns": null,
       "grid_auto_flow": null,
       "grid_auto_rows": null,
       "grid_column": null,
       "grid_gap": null,
       "grid_row": null,
       "grid_template_areas": null,
       "grid_template_columns": null,
       "grid_template_rows": null,
       "height": null,
       "justify_content": null,
       "justify_items": null,
       "left": null,
       "margin": null,
       "max_height": null,
       "max_width": null,
       "min_height": null,
       "min_width": null,
       "object_fit": null,
       "object_position": null,
       "order": null,
       "overflow": null,
       "overflow_x": null,
       "overflow_y": null,
       "padding": null,
       "right": null,
       "top": null,
       "visibility": null,
       "width": null
      }
     },
     "6cbc28ec578746b9a9052ca019a4c99a": {
      "model_module": "@jupyter-widgets/controls",
      "model_module_version": "1.5.0",
      "model_name": "FloatProgressModel",
      "state": {
       "_dom_classes": [],
       "_model_module": "@jupyter-widgets/controls",
       "_model_module_version": "1.5.0",
       "_model_name": "FloatProgressModel",
       "_view_count": null,
       "_view_module": "@jupyter-widgets/controls",
       "_view_module_version": "1.5.0",
       "_view_name": "ProgressView",
       "bar_style": "success",
       "description": "",
       "description_tooltip": null,
       "layout": "IPY_MODEL_2811cd1ae466489c97edeef795dd3d2e",
       "max": 625,
       "min": 0,
       "orientation": "horizontal",
       "style": "IPY_MODEL_89fb0c8ad1f047dd8e4595d93dc3ec03",
       "value": 625
      }
     },
     "6d1d8c8e4bf941999c68d99c0b1791f6": {
      "model_module": "@jupyter-widgets/controls",
      "model_module_version": "1.5.0",
      "model_name": "HTMLModel",
      "state": {
       "_dom_classes": [],
       "_model_module": "@jupyter-widgets/controls",
       "_model_module_version": "1.5.0",
       "_model_name": "HTMLModel",
       "_view_count": null,
       "_view_module": "@jupyter-widgets/controls",
       "_view_module_version": "1.5.0",
       "_view_name": "HTMLView",
       "description": "",
       "description_tooltip": null,
       "layout": "IPY_MODEL_b1454fbdc67e4066a55cde03d473caf2",
       "placeholder": "​",
       "style": "IPY_MODEL_e180e12870d648b4bbfb263eee49cbd8",
       "value": " 672M/672M [00:23&lt;00:00, 29.8MB/s]"
      }
     },
     "743bb494637640b1a4830a129a987e68": {
      "model_module": "@jupyter-widgets/controls",
      "model_module_version": "1.5.0",
      "model_name": "HBoxModel",
      "state": {
       "_dom_classes": [],
       "_model_module": "@jupyter-widgets/controls",
       "_model_module_version": "1.5.0",
       "_model_name": "HBoxModel",
       "_view_count": null,
       "_view_module": "@jupyter-widgets/controls",
       "_view_module_version": "1.5.0",
       "_view_name": "HBoxView",
       "box_style": "",
       "children": [
        "IPY_MODEL_78c3a82397b44431a3dac61280cab78f",
        "IPY_MODEL_6cbc28ec578746b9a9052ca019a4c99a",
        "IPY_MODEL_27f2098618d94d24b817ae81d45e9040"
       ],
       "layout": "IPY_MODEL_67d098c893ab4316944071d1cd0cf430"
      }
     },
     "75a66f2863be4599a817356a8614270b": {
      "model_module": "@jupyter-widgets/base",
      "model_module_version": "1.2.0",
      "model_name": "LayoutModel",
      "state": {
       "_model_module": "@jupyter-widgets/base",
       "_model_module_version": "1.2.0",
       "_model_name": "LayoutModel",
       "_view_count": null,
       "_view_module": "@jupyter-widgets/base",
       "_view_module_version": "1.2.0",
       "_view_name": "LayoutView",
       "align_content": null,
       "align_items": null,
       "align_self": null,
       "border": null,
       "bottom": null,
       "display": null,
       "flex": null,
       "flex_flow": null,
       "grid_area": null,
       "grid_auto_columns": null,
       "grid_auto_flow": null,
       "grid_auto_rows": null,
       "grid_column": null,
       "grid_gap": null,
       "grid_row": null,
       "grid_template_areas": null,
       "grid_template_columns": null,
       "grid_template_rows": null,
       "height": null,
       "justify_content": null,
       "justify_items": null,
       "left": null,
       "margin": null,
       "max_height": null,
       "max_width": null,
       "min_height": null,
       "min_width": null,
       "object_fit": null,
       "object_position": null,
       "order": null,
       "overflow": null,
       "overflow_x": null,
       "overflow_y": null,
       "padding": null,
       "right": null,
       "top": null,
       "visibility": null,
       "width": null
      }
     },
     "76230d9b3aec44a79b5b89317f8d0ecb": {
      "model_module": "@jupyter-widgets/base",
      "model_module_version": "1.2.0",
      "model_name": "LayoutModel",
      "state": {
       "_model_module": "@jupyter-widgets/base",
       "_model_module_version": "1.2.0",
       "_model_name": "LayoutModel",
       "_view_count": null,
       "_view_module": "@jupyter-widgets/base",
       "_view_module_version": "1.2.0",
       "_view_name": "LayoutView",
       "align_content": null,
       "align_items": null,
       "align_self": null,
       "border": null,
       "bottom": null,
       "display": null,
       "flex": null,
       "flex_flow": null,
       "grid_area": null,
       "grid_auto_columns": null,
       "grid_auto_flow": null,
       "grid_auto_rows": null,
       "grid_column": null,
       "grid_gap": null,
       "grid_row": null,
       "grid_template_areas": null,
       "grid_template_columns": null,
       "grid_template_rows": null,
       "height": null,
       "justify_content": null,
       "justify_items": null,
       "left": null,
       "margin": null,
       "max_height": null,
       "max_width": null,
       "min_height": null,
       "min_width": null,
       "object_fit": null,
       "object_position": null,
       "order": null,
       "overflow": null,
       "overflow_x": null,
       "overflow_y": null,
       "padding": null,
       "right": null,
       "top": null,
       "visibility": null,
       "width": null
      }
     },
     "78c3a82397b44431a3dac61280cab78f": {
      "model_module": "@jupyter-widgets/controls",
      "model_module_version": "1.5.0",
      "model_name": "HTMLModel",
      "state": {
       "_dom_classes": [],
       "_model_module": "@jupyter-widgets/controls",
       "_model_module_version": "1.5.0",
       "_model_name": "HTMLModel",
       "_view_count": null,
       "_view_module": "@jupyter-widgets/controls",
       "_view_module_version": "1.5.0",
       "_view_name": "HTMLView",
       "description": "",
       "description_tooltip": null,
       "layout": "IPY_MODEL_92d7812656074151a31b982b745dbbc2",
       "placeholder": "​",
       "style": "IPY_MODEL_ca03350e7a0047aa9b387e4b6e230326",
       "value": "Downloading config.json: 100%"
      }
     },
     "7c80478d5d004a51b8694886fefd9183": {
      "model_module": "@jupyter-widgets/base",
      "model_module_version": "1.2.0",
      "model_name": "LayoutModel",
      "state": {
       "_model_module": "@jupyter-widgets/base",
       "_model_module_version": "1.2.0",
       "_model_name": "LayoutModel",
       "_view_count": null,
       "_view_module": "@jupyter-widgets/base",
       "_view_module_version": "1.2.0",
       "_view_name": "LayoutView",
       "align_content": null,
       "align_items": null,
       "align_self": null,
       "border": null,
       "bottom": null,
       "display": null,
       "flex": null,
       "flex_flow": null,
       "grid_area": null,
       "grid_auto_columns": null,
       "grid_auto_flow": null,
       "grid_auto_rows": null,
       "grid_column": null,
       "grid_gap": null,
       "grid_row": null,
       "grid_template_areas": null,
       "grid_template_columns": null,
       "grid_template_rows": null,
       "height": null,
       "justify_content": null,
       "justify_items": null,
       "left": null,
       "margin": null,
       "max_height": null,
       "max_width": null,
       "min_height": null,
       "min_width": null,
       "object_fit": null,
       "object_position": null,
       "order": null,
       "overflow": null,
       "overflow_x": null,
       "overflow_y": null,
       "padding": null,
       "right": null,
       "top": null,
       "visibility": null,
       "width": null
      }
     },
     "8201ec38b99a4f8abf3f84b9ec4ff251": {
      "model_module": "@jupyter-widgets/controls",
      "model_module_version": "1.5.0",
      "model_name": "DescriptionStyleModel",
      "state": {
       "_model_module": "@jupyter-widgets/controls",
       "_model_module_version": "1.5.0",
       "_model_name": "DescriptionStyleModel",
       "_view_count": null,
       "_view_module": "@jupyter-widgets/base",
       "_view_module_version": "1.2.0",
       "_view_name": "StyleView",
       "description_width": ""
      }
     },
     "88c5470502bf46ed8a61f27190745c04": {
      "model_module": "@jupyter-widgets/base",
      "model_module_version": "1.2.0",
      "model_name": "LayoutModel",
      "state": {
       "_model_module": "@jupyter-widgets/base",
       "_model_module_version": "1.2.0",
       "_model_name": "LayoutModel",
       "_view_count": null,
       "_view_module": "@jupyter-widgets/base",
       "_view_module_version": "1.2.0",
       "_view_name": "LayoutView",
       "align_content": null,
       "align_items": null,
       "align_self": null,
       "border": null,
       "bottom": null,
       "display": null,
       "flex": null,
       "flex_flow": null,
       "grid_area": null,
       "grid_auto_columns": null,
       "grid_auto_flow": null,
       "grid_auto_rows": null,
       "grid_column": null,
       "grid_gap": null,
       "grid_row": null,
       "grid_template_areas": null,
       "grid_template_columns": null,
       "grid_template_rows": null,
       "height": null,
       "justify_content": null,
       "justify_items": null,
       "left": null,
       "margin": null,
       "max_height": null,
       "max_width": null,
       "min_height": null,
       "min_width": null,
       "object_fit": null,
       "object_position": null,
       "order": null,
       "overflow": null,
       "overflow_x": null,
       "overflow_y": null,
       "padding": null,
       "right": null,
       "top": null,
       "visibility": null,
       "width": null
      }
     },
     "88fbc51551374441a884b3fafb906e8a": {
      "model_module": "@jupyter-widgets/controls",
      "model_module_version": "1.5.0",
      "model_name": "ProgressStyleModel",
      "state": {
       "_model_module": "@jupyter-widgets/controls",
       "_model_module_version": "1.5.0",
       "_model_name": "ProgressStyleModel",
       "_view_count": null,
       "_view_module": "@jupyter-widgets/base",
       "_view_module_version": "1.2.0",
       "_view_name": "StyleView",
       "bar_color": null,
       "description_width": ""
      }
     },
     "89fb0c8ad1f047dd8e4595d93dc3ec03": {
      "model_module": "@jupyter-widgets/controls",
      "model_module_version": "1.5.0",
      "model_name": "ProgressStyleModel",
      "state": {
       "_model_module": "@jupyter-widgets/controls",
       "_model_module_version": "1.5.0",
       "_model_name": "ProgressStyleModel",
       "_view_count": null,
       "_view_module": "@jupyter-widgets/base",
       "_view_module_version": "1.2.0",
       "_view_name": "StyleView",
       "bar_color": null,
       "description_width": ""
      }
     },
     "8b637790dca04792923615c6fda9feb4": {
      "model_module": "@jupyter-widgets/base",
      "model_module_version": "1.2.0",
      "model_name": "LayoutModel",
      "state": {
       "_model_module": "@jupyter-widgets/base",
       "_model_module_version": "1.2.0",
       "_model_name": "LayoutModel",
       "_view_count": null,
       "_view_module": "@jupyter-widgets/base",
       "_view_module_version": "1.2.0",
       "_view_name": "LayoutView",
       "align_content": null,
       "align_items": null,
       "align_self": null,
       "border": null,
       "bottom": null,
       "display": null,
       "flex": null,
       "flex_flow": null,
       "grid_area": null,
       "grid_auto_columns": null,
       "grid_auto_flow": null,
       "grid_auto_rows": null,
       "grid_column": null,
       "grid_gap": null,
       "grid_row": null,
       "grid_template_areas": null,
       "grid_template_columns": null,
       "grid_template_rows": null,
       "height": null,
       "justify_content": null,
       "justify_items": null,
       "left": null,
       "margin": null,
       "max_height": null,
       "max_width": null,
       "min_height": null,
       "min_width": null,
       "object_fit": null,
       "object_position": null,
       "order": null,
       "overflow": null,
       "overflow_x": null,
       "overflow_y": null,
       "padding": null,
       "right": null,
       "top": null,
       "visibility": null,
       "width": null
      }
     },
     "91bd1bbddadd49fd9fbe5d91521c7342": {
      "model_module": "@jupyter-widgets/controls",
      "model_module_version": "1.5.0",
      "model_name": "ProgressStyleModel",
      "state": {
       "_model_module": "@jupyter-widgets/controls",
       "_model_module_version": "1.5.0",
       "_model_name": "ProgressStyleModel",
       "_view_count": null,
       "_view_module": "@jupyter-widgets/base",
       "_view_module_version": "1.2.0",
       "_view_name": "StyleView",
       "bar_color": null,
       "description_width": ""
      }
     },
     "92d7812656074151a31b982b745dbbc2": {
      "model_module": "@jupyter-widgets/base",
      "model_module_version": "1.2.0",
      "model_name": "LayoutModel",
      "state": {
       "_model_module": "@jupyter-widgets/base",
       "_model_module_version": "1.2.0",
       "_model_name": "LayoutModel",
       "_view_count": null,
       "_view_module": "@jupyter-widgets/base",
       "_view_module_version": "1.2.0",
       "_view_name": "LayoutView",
       "align_content": null,
       "align_items": null,
       "align_self": null,
       "border": null,
       "bottom": null,
       "display": null,
       "flex": null,
       "flex_flow": null,
       "grid_area": null,
       "grid_auto_columns": null,
       "grid_auto_flow": null,
       "grid_auto_rows": null,
       "grid_column": null,
       "grid_gap": null,
       "grid_row": null,
       "grid_template_areas": null,
       "grid_template_columns": null,
       "grid_template_rows": null,
       "height": null,
       "justify_content": null,
       "justify_items": null,
       "left": null,
       "margin": null,
       "max_height": null,
       "max_width": null,
       "min_height": null,
       "min_width": null,
       "object_fit": null,
       "object_position": null,
       "order": null,
       "overflow": null,
       "overflow_x": null,
       "overflow_y": null,
       "padding": null,
       "right": null,
       "top": null,
       "visibility": null,
       "width": null
      }
     },
     "953ab8452f3d4ad8b3dcbc5e42684ceb": {
      "model_module": "@jupyter-widgets/controls",
      "model_module_version": "1.5.0",
      "model_name": "HTMLModel",
      "state": {
       "_dom_classes": [],
       "_model_module": "@jupyter-widgets/controls",
       "_model_module_version": "1.5.0",
       "_model_name": "HTMLModel",
       "_view_count": null,
       "_view_module": "@jupyter-widgets/controls",
       "_view_module_version": "1.5.0",
       "_view_name": "HTMLView",
       "description": "",
       "description_tooltip": null,
       "layout": "IPY_MODEL_8b637790dca04792923615c6fda9feb4",
       "placeholder": "​",
       "style": "IPY_MODEL_d2d6430531f846ffb172facd4d12098b",
       "value": " 1.72M/1.72M [00:00&lt;00:00, 3.33MB/s]"
      }
     },
     "97a4cde8ec2042b8b0de149e23abdaab": {
      "model_module": "@jupyter-widgets/base",
      "model_module_version": "1.2.0",
      "model_name": "LayoutModel",
      "state": {
       "_model_module": "@jupyter-widgets/base",
       "_model_module_version": "1.2.0",
       "_model_name": "LayoutModel",
       "_view_count": null,
       "_view_module": "@jupyter-widgets/base",
       "_view_module_version": "1.2.0",
       "_view_name": "LayoutView",
       "align_content": null,
       "align_items": null,
       "align_self": null,
       "border": null,
       "bottom": null,
       "display": null,
       "flex": null,
       "flex_flow": null,
       "grid_area": null,
       "grid_auto_columns": null,
       "grid_auto_flow": null,
       "grid_auto_rows": null,
       "grid_column": null,
       "grid_gap": null,
       "grid_row": null,
       "grid_template_areas": null,
       "grid_template_columns": null,
       "grid_template_rows": null,
       "height": null,
       "justify_content": null,
       "justify_items": null,
       "left": null,
       "margin": null,
       "max_height": null,
       "max_width": null,
       "min_height": null,
       "min_width": null,
       "object_fit": null,
       "object_position": null,
       "order": null,
       "overflow": null,
       "overflow_x": null,
       "overflow_y": null,
       "padding": null,
       "right": null,
       "top": null,
       "visibility": null,
       "width": null
      }
     },
     "9add5fb6be664ca4a95b9d057978ba0b": {
      "model_module": "@jupyter-widgets/base",
      "model_module_version": "1.2.0",
      "model_name": "LayoutModel",
      "state": {
       "_model_module": "@jupyter-widgets/base",
       "_model_module_version": "1.2.0",
       "_model_name": "LayoutModel",
       "_view_count": null,
       "_view_module": "@jupyter-widgets/base",
       "_view_module_version": "1.2.0",
       "_view_name": "LayoutView",
       "align_content": null,
       "align_items": null,
       "align_self": null,
       "border": null,
       "bottom": null,
       "display": null,
       "flex": null,
       "flex_flow": null,
       "grid_area": null,
       "grid_auto_columns": null,
       "grid_auto_flow": null,
       "grid_auto_rows": null,
       "grid_column": null,
       "grid_gap": null,
       "grid_row": null,
       "grid_template_areas": null,
       "grid_template_columns": null,
       "grid_template_rows": null,
       "height": null,
       "justify_content": null,
       "justify_items": null,
       "left": null,
       "margin": null,
       "max_height": null,
       "max_width": null,
       "min_height": null,
       "min_width": null,
       "object_fit": null,
       "object_position": null,
       "order": null,
       "overflow": null,
       "overflow_x": null,
       "overflow_y": null,
       "padding": null,
       "right": null,
       "top": null,
       "visibility": null,
       "width": null
      }
     },
     "9e201a2c63da4aee84e23b14f7afffcc": {
      "model_module": "@jupyter-widgets/controls",
      "model_module_version": "1.5.0",
      "model_name": "ProgressStyleModel",
      "state": {
       "_model_module": "@jupyter-widgets/controls",
       "_model_module_version": "1.5.0",
       "_model_name": "ProgressStyleModel",
       "_view_count": null,
       "_view_module": "@jupyter-widgets/base",
       "_view_module_version": "1.2.0",
       "_view_name": "StyleView",
       "bar_color": null,
       "description_width": ""
      }
     },
     "a1148fbab163465c969bf4447664a2c2": {
      "model_module": "@jupyter-widgets/controls",
      "model_module_version": "1.5.0",
      "model_name": "DescriptionStyleModel",
      "state": {
       "_model_module": "@jupyter-widgets/controls",
       "_model_module_version": "1.5.0",
       "_model_name": "DescriptionStyleModel",
       "_view_count": null,
       "_view_module": "@jupyter-widgets/base",
       "_view_module_version": "1.2.0",
       "_view_name": "StyleView",
       "description_width": ""
      }
     },
     "a36253a794c1420b9f901b4bda718814": {
      "model_module": "@jupyter-widgets/controls",
      "model_module_version": "1.5.0",
      "model_name": "HBoxModel",
      "state": {
       "_dom_classes": [],
       "_model_module": "@jupyter-widgets/controls",
       "_model_module_version": "1.5.0",
       "_model_name": "HBoxModel",
       "_view_count": null,
       "_view_module": "@jupyter-widgets/controls",
       "_view_module_version": "1.5.0",
       "_view_name": "HBoxView",
       "box_style": "",
       "children": [
        "IPY_MODEL_ca447237bcd940169dab1a18a1e9d2cb",
        "IPY_MODEL_1f14aedf2d6441428367e919974fe4ab",
        "IPY_MODEL_953ab8452f3d4ad8b3dcbc5e42684ceb"
       ],
       "layout": "IPY_MODEL_5902b547213643cfb61a7a8a9144106c"
      }
     },
     "a6f358043bac4ddebdfd5f6bc3e48f5c": {
      "model_module": "@jupyter-widgets/controls",
      "model_module_version": "1.5.0",
      "model_name": "HTMLModel",
      "state": {
       "_dom_classes": [],
       "_model_module": "@jupyter-widgets/controls",
       "_model_module_version": "1.5.0",
       "_model_name": "HTMLModel",
       "_view_count": null,
       "_view_module": "@jupyter-widgets/controls",
       "_view_module_version": "1.5.0",
       "_view_name": "HTMLView",
       "description": "",
       "description_tooltip": null,
       "layout": "IPY_MODEL_9add5fb6be664ca4a95b9d057978ba0b",
       "placeholder": "​",
       "style": "IPY_MODEL_8201ec38b99a4f8abf3f84b9ec4ff251",
       "value": " 48.0/48.0 [00:00&lt;00:00, 4.99kB/s]"
      }
     },
     "adb31fa20a214fb4b14dcc03e61f989d": {
      "model_module": "@jupyter-widgets/base",
      "model_module_version": "1.2.0",
      "model_name": "LayoutModel",
      "state": {
       "_model_module": "@jupyter-widgets/base",
       "_model_module_version": "1.2.0",
       "_model_name": "LayoutModel",
       "_view_count": null,
       "_view_module": "@jupyter-widgets/base",
       "_view_module_version": "1.2.0",
       "_view_name": "LayoutView",
       "align_content": null,
       "align_items": null,
       "align_self": null,
       "border": null,
       "bottom": null,
       "display": null,
       "flex": null,
       "flex_flow": null,
       "grid_area": null,
       "grid_auto_columns": null,
       "grid_auto_flow": null,
       "grid_auto_rows": null,
       "grid_column": null,
       "grid_gap": null,
       "grid_row": null,
       "grid_template_areas": null,
       "grid_template_columns": null,
       "grid_template_rows": null,
       "height": null,
       "justify_content": null,
       "justify_items": null,
       "left": null,
       "margin": null,
       "max_height": null,
       "max_width": null,
       "min_height": null,
       "min_width": null,
       "object_fit": null,
       "object_position": null,
       "order": null,
       "overflow": null,
       "overflow_x": null,
       "overflow_y": null,
       "padding": null,
       "right": null,
       "top": null,
       "visibility": null,
       "width": null
      }
     },
     "b1454fbdc67e4066a55cde03d473caf2": {
      "model_module": "@jupyter-widgets/base",
      "model_module_version": "1.2.0",
      "model_name": "LayoutModel",
      "state": {
       "_model_module": "@jupyter-widgets/base",
       "_model_module_version": "1.2.0",
       "_model_name": "LayoutModel",
       "_view_count": null,
       "_view_module": "@jupyter-widgets/base",
       "_view_module_version": "1.2.0",
       "_view_name": "LayoutView",
       "align_content": null,
       "align_items": null,
       "align_self": null,
       "border": null,
       "bottom": null,
       "display": null,
       "flex": null,
       "flex_flow": null,
       "grid_area": null,
       "grid_auto_columns": null,
       "grid_auto_flow": null,
       "grid_auto_rows": null,
       "grid_column": null,
       "grid_gap": null,
       "grid_row": null,
       "grid_template_areas": null,
       "grid_template_columns": null,
       "grid_template_rows": null,
       "height": null,
       "justify_content": null,
       "justify_items": null,
       "left": null,
       "margin": null,
       "max_height": null,
       "max_width": null,
       "min_height": null,
       "min_width": null,
       "object_fit": null,
       "object_position": null,
       "order": null,
       "overflow": null,
       "overflow_x": null,
       "overflow_y": null,
       "padding": null,
       "right": null,
       "top": null,
       "visibility": null,
       "width": null
      }
     },
     "b1742393dace4855a43404e68c394030": {
      "model_module": "@jupyter-widgets/base",
      "model_module_version": "1.2.0",
      "model_name": "LayoutModel",
      "state": {
       "_model_module": "@jupyter-widgets/base",
       "_model_module_version": "1.2.0",
       "_model_name": "LayoutModel",
       "_view_count": null,
       "_view_module": "@jupyter-widgets/base",
       "_view_module_version": "1.2.0",
       "_view_name": "LayoutView",
       "align_content": null,
       "align_items": null,
       "align_self": null,
       "border": null,
       "bottom": null,
       "display": null,
       "flex": null,
       "flex_flow": null,
       "grid_area": null,
       "grid_auto_columns": null,
       "grid_auto_flow": null,
       "grid_auto_rows": null,
       "grid_column": null,
       "grid_gap": null,
       "grid_row": null,
       "grid_template_areas": null,
       "grid_template_columns": null,
       "grid_template_rows": null,
       "height": null,
       "justify_content": null,
       "justify_items": null,
       "left": null,
       "margin": null,
       "max_height": null,
       "max_width": null,
       "min_height": null,
       "min_width": null,
       "object_fit": null,
       "object_position": null,
       "order": null,
       "overflow": null,
       "overflow_x": null,
       "overflow_y": null,
       "padding": null,
       "right": null,
       "top": null,
       "visibility": null,
       "width": null
      }
     },
     "b75d3e19135d484c8da131a3e9c620e1": {
      "model_module": "@jupyter-widgets/base",
      "model_module_version": "1.2.0",
      "model_name": "LayoutModel",
      "state": {
       "_model_module": "@jupyter-widgets/base",
       "_model_module_version": "1.2.0",
       "_model_name": "LayoutModel",
       "_view_count": null,
       "_view_module": "@jupyter-widgets/base",
       "_view_module_version": "1.2.0",
       "_view_name": "LayoutView",
       "align_content": null,
       "align_items": null,
       "align_self": null,
       "border": null,
       "bottom": null,
       "display": null,
       "flex": null,
       "flex_flow": null,
       "grid_area": null,
       "grid_auto_columns": null,
       "grid_auto_flow": null,
       "grid_auto_rows": null,
       "grid_column": null,
       "grid_gap": null,
       "grid_row": null,
       "grid_template_areas": null,
       "grid_template_columns": null,
       "grid_template_rows": null,
       "height": null,
       "justify_content": null,
       "justify_items": null,
       "left": null,
       "margin": null,
       "max_height": null,
       "max_width": null,
       "min_height": null,
       "min_width": null,
       "object_fit": null,
       "object_position": null,
       "order": null,
       "overflow": null,
       "overflow_x": null,
       "overflow_y": null,
       "padding": null,
       "right": null,
       "top": null,
       "visibility": null,
       "width": null
      }
     },
     "bd8c9b99e3034473aea228eac7afc0aa": {
      "model_module": "@jupyter-widgets/controls",
      "model_module_version": "1.5.0",
      "model_name": "FloatProgressModel",
      "state": {
       "_dom_classes": [],
       "_model_module": "@jupyter-widgets/controls",
       "_model_module_version": "1.5.0",
       "_model_name": "FloatProgressModel",
       "_view_count": null,
       "_view_module": "@jupyter-widgets/controls",
       "_view_module_version": "1.5.0",
       "_view_name": "ProgressView",
       "bar_style": "success",
       "description": "",
       "description_tooltip": null,
       "layout": "IPY_MODEL_76230d9b3aec44a79b5b89317f8d0ecb",
       "max": 48,
       "min": 0,
       "orientation": "horizontal",
       "style": "IPY_MODEL_9e201a2c63da4aee84e23b14f7afffcc",
       "value": 48
      }
     },
     "c21d20c5583b441fbe6673b3becb82b7": {
      "model_module": "@jupyter-widgets/controls",
      "model_module_version": "1.5.0",
      "model_name": "HTMLModel",
      "state": {
       "_dom_classes": [],
       "_model_module": "@jupyter-widgets/controls",
       "_model_module_version": "1.5.0",
       "_model_name": "HTMLModel",
       "_view_count": null,
       "_view_module": "@jupyter-widgets/controls",
       "_view_module_version": "1.5.0",
       "_view_name": "HTMLView",
       "description": "",
       "description_tooltip": null,
       "layout": "IPY_MODEL_b1742393dace4855a43404e68c394030",
       "placeholder": "​",
       "style": "IPY_MODEL_0a8d5b1a9d2d49f48d3b4a7b890697d7",
       "value": "Downloading vocab.txt: 100%"
      }
     },
     "ca03350e7a0047aa9b387e4b6e230326": {
      "model_module": "@jupyter-widgets/controls",
      "model_module_version": "1.5.0",
      "model_name": "DescriptionStyleModel",
      "state": {
       "_model_module": "@jupyter-widgets/controls",
       "_model_module_version": "1.5.0",
       "_model_name": "DescriptionStyleModel",
       "_view_count": null,
       "_view_module": "@jupyter-widgets/base",
       "_view_module_version": "1.2.0",
       "_view_name": "StyleView",
       "description_width": ""
      }
     },
     "ca447237bcd940169dab1a18a1e9d2cb": {
      "model_module": "@jupyter-widgets/controls",
      "model_module_version": "1.5.0",
      "model_name": "HTMLModel",
      "state": {
       "_dom_classes": [],
       "_model_module": "@jupyter-widgets/controls",
       "_model_module_version": "1.5.0",
       "_model_name": "HTMLModel",
       "_view_count": null,
       "_view_module": "@jupyter-widgets/controls",
       "_view_module_version": "1.5.0",
       "_view_name": "HTMLView",
       "description": "",
       "description_tooltip": null,
       "layout": "IPY_MODEL_2c7f12b8ed304bedbb4c5a62544e2554",
       "placeholder": "​",
       "style": "IPY_MODEL_a1148fbab163465c969bf4447664a2c2",
       "value": "Downloading tokenizer.json: 100%"
      }
     },
     "d2d6430531f846ffb172facd4d12098b": {
      "model_module": "@jupyter-widgets/controls",
      "model_module_version": "1.5.0",
      "model_name": "DescriptionStyleModel",
      "state": {
       "_model_module": "@jupyter-widgets/controls",
       "_model_module_version": "1.5.0",
       "_model_name": "DescriptionStyleModel",
       "_view_count": null,
       "_view_module": "@jupyter-widgets/base",
       "_view_module_version": "1.2.0",
       "_view_name": "StyleView",
       "description_width": ""
      }
     },
     "d48e13d964fd40c98a08e2352c215f71": {
      "model_module": "@jupyter-widgets/controls",
      "model_module_version": "1.5.0",
      "model_name": "HTMLModel",
      "state": {
       "_dom_classes": [],
       "_model_module": "@jupyter-widgets/controls",
       "_model_module_version": "1.5.0",
       "_model_name": "HTMLModel",
       "_view_count": null,
       "_view_module": "@jupyter-widgets/controls",
       "_view_module_version": "1.5.0",
       "_view_name": "HTMLView",
       "description": "",
       "description_tooltip": null,
       "layout": "IPY_MODEL_97a4cde8ec2042b8b0de149e23abdaab",
       "placeholder": "​",
       "style": "IPY_MODEL_e608ce09741140769d611a1b79c8b497",
       "value": "Downloading model.safetensors: 100%"
      }
     },
     "da8a49b75eb348289b10d27dc65f1887": {
      "model_module": "@jupyter-widgets/controls",
      "model_module_version": "1.5.0",
      "model_name": "HTMLModel",
      "state": {
       "_dom_classes": [],
       "_model_module": "@jupyter-widgets/controls",
       "_model_module_version": "1.5.0",
       "_model_name": "HTMLModel",
       "_view_count": null,
       "_view_module": "@jupyter-widgets/controls",
       "_view_module_version": "1.5.0",
       "_view_name": "HTMLView",
       "description": "",
       "description_tooltip": null,
       "layout": "IPY_MODEL_568ea782e2c84011baa4f8794d381617",
       "placeholder": "​",
       "style": "IPY_MODEL_45b559f75abb43a08ff6572681cd20d1",
       "value": " 872k/872k [00:00&lt;00:00, 1.44MB/s]"
      }
     },
     "e180e12870d648b4bbfb263eee49cbd8": {
      "model_module": "@jupyter-widgets/controls",
      "model_module_version": "1.5.0",
      "model_name": "DescriptionStyleModel",
      "state": {
       "_model_module": "@jupyter-widgets/controls",
       "_model_module_version": "1.5.0",
       "_model_name": "DescriptionStyleModel",
       "_view_count": null,
       "_view_module": "@jupyter-widgets/base",
       "_view_module_version": "1.2.0",
       "_view_name": "StyleView",
       "description_width": ""
      }
     },
     "e2d92ebe312547039b781e6fc3a6db17": {
      "model_module": "@jupyter-widgets/controls",
      "model_module_version": "1.5.0",
      "model_name": "ProgressStyleModel",
      "state": {
       "_model_module": "@jupyter-widgets/controls",
       "_model_module_version": "1.5.0",
       "_model_name": "ProgressStyleModel",
       "_view_count": null,
       "_view_module": "@jupyter-widgets/base",
       "_view_module_version": "1.2.0",
       "_view_name": "StyleView",
       "bar_color": null,
       "description_width": ""
      }
     },
     "e608ce09741140769d611a1b79c8b497": {
      "model_module": "@jupyter-widgets/controls",
      "model_module_version": "1.5.0",
      "model_name": "DescriptionStyleModel",
      "state": {
       "_model_module": "@jupyter-widgets/controls",
       "_model_module_version": "1.5.0",
       "_model_name": "DescriptionStyleModel",
       "_view_count": null,
       "_view_module": "@jupyter-widgets/base",
       "_view_module_version": "1.2.0",
       "_view_name": "StyleView",
       "description_width": ""
      }
     },
     "ec6c9616c306498a9e1f83ed8f42e564": {
      "model_module": "@jupyter-widgets/controls",
      "model_module_version": "1.5.0",
      "model_name": "HBoxModel",
      "state": {
       "_dom_classes": [],
       "_model_module": "@jupyter-widgets/controls",
       "_model_module_version": "1.5.0",
       "_model_name": "HBoxModel",
       "_view_count": null,
       "_view_module": "@jupyter-widgets/controls",
       "_view_module_version": "1.5.0",
       "_view_name": "HBoxView",
       "box_style": "",
       "children": [
        "IPY_MODEL_d48e13d964fd40c98a08e2352c215f71",
        "IPY_MODEL_6159964319fb49538007ca390af1e6d0",
        "IPY_MODEL_6d1d8c8e4bf941999c68d99c0b1791f6"
       ],
       "layout": "IPY_MODEL_3d021dc6fd3443b19461139f264e3328"
      }
     },
     "ed74b6f84a6b46fa95e47f902a487001": {
      "model_module": "@jupyter-widgets/controls",
      "model_module_version": "1.5.0",
      "model_name": "FloatProgressModel",
      "state": {
       "_dom_classes": [],
       "_model_module": "@jupyter-widgets/controls",
       "_model_module_version": "1.5.0",
       "_model_name": "FloatProgressModel",
       "_view_count": null,
       "_view_module": "@jupyter-widgets/controls",
       "_view_module_version": "1.5.0",
       "_view_name": "ProgressView",
       "bar_style": "success",
       "description": "",
       "description_tooltip": null,
       "layout": "IPY_MODEL_fce6985637514d6bbc452e462f0097d4",
       "max": 871891,
       "min": 0,
       "orientation": "horizontal",
       "style": "IPY_MODEL_e2d92ebe312547039b781e6fc3a6db17",
       "value": 871891
      }
     },
     "fce6985637514d6bbc452e462f0097d4": {
      "model_module": "@jupyter-widgets/base",
      "model_module_version": "1.2.0",
      "model_name": "LayoutModel",
      "state": {
       "_model_module": "@jupyter-widgets/base",
       "_model_module_version": "1.2.0",
       "_model_name": "LayoutModel",
       "_view_count": null,
       "_view_module": "@jupyter-widgets/base",
       "_view_module_version": "1.2.0",
       "_view_name": "LayoutView",
       "align_content": null,
       "align_items": null,
       "align_self": null,
       "border": null,
       "bottom": null,
       "display": null,
       "flex": null,
       "flex_flow": null,
       "grid_area": null,
       "grid_auto_columns": null,
       "grid_auto_flow": null,
       "grid_auto_rows": null,
       "grid_column": null,
       "grid_gap": null,
       "grid_row": null,
       "grid_template_areas": null,
       "grid_template_columns": null,
       "grid_template_rows": null,
       "height": null,
       "justify_content": null,
       "justify_items": null,
       "left": null,
       "margin": null,
       "max_height": null,
       "max_width": null,
       "min_height": null,
       "min_width": null,
       "object_fit": null,
       "object_position": null,
       "order": null,
       "overflow": null,
       "overflow_x": null,
       "overflow_y": null,
       "padding": null,
       "right": null,
       "top": null,
       "visibility": null,
       "width": null
      }
     },
     "fe71c28d7ae84815a361163a29c90533": {
      "model_module": "@jupyter-widgets/base",
      "model_module_version": "1.2.0",
      "model_name": "LayoutModel",
      "state": {
       "_model_module": "@jupyter-widgets/base",
       "_model_module_version": "1.2.0",
       "_model_name": "LayoutModel",
       "_view_count": null,
       "_view_module": "@jupyter-widgets/base",
       "_view_module_version": "1.2.0",
       "_view_name": "LayoutView",
       "align_content": null,
       "align_items": null,
       "align_self": null,
       "border": null,
       "bottom": null,
       "display": null,
       "flex": null,
       "flex_flow": null,
       "grid_area": null,
       "grid_auto_columns": null,
       "grid_auto_flow": null,
       "grid_auto_rows": null,
       "grid_column": null,
       "grid_gap": null,
       "grid_row": null,
       "grid_template_areas": null,
       "grid_template_columns": null,
       "grid_template_rows": null,
       "height": null,
       "justify_content": null,
       "justify_items": null,
       "left": null,
       "margin": null,
       "max_height": null,
       "max_width": null,
       "min_height": null,
       "min_width": null,
       "object_fit": null,
       "object_position": null,
       "order": null,
       "overflow": null,
       "overflow_x": null,
       "overflow_y": null,
       "padding": null,
       "right": null,
       "top": null,
       "visibility": null,
       "width": null
      }
     }
    },
    "version_major": 2,
    "version_minor": 0
   }
  }
 },
 "nbformat": 4,
 "nbformat_minor": 5
}
